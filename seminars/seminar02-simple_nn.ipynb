{
  "cells": [
    {
      "cell_type": "markdown",
      "metadata": {
        "pycharm": {
          "name": "#%% md\n"
        },
        "id": "uLgXXT-GITz7"
      },
      "source": [
        "# Семинар 2"
      ]
    },
    {
      "cell_type": "markdown",
      "metadata": {
        "pycharm": {
          "name": "#%% md\n"
        },
        "id": "2wOZrxsoITz9"
      },
      "source": [
        "## План ноутбука\n",
        "\n",
        "1. Высокоуровневое API для обучение нейросетей в `PyTorch`\n",
        "2. Обучение первой нейросети в `PyTorch`"
      ]
    },
    {
      "cell_type": "markdown",
      "metadata": {
        "pycharm": {
          "name": "#%% md\n"
        },
        "id": "QG2RRPzQITz-"
      },
      "source": [
        "## Высокоуровневое API для обучение нейросетей в `PyTorch`"
      ]
    },
    {
      "cell_type": "code",
      "execution_count": 5,
      "metadata": {
        "pycharm": {
          "name": "#%%\n"
        },
        "id": "6pIYm0RnITz-"
      },
      "outputs": [],
      "source": [
        "import torch\n",
        "import torch.nn as nn"
      ]
    },
    {
      "cell_type": "code",
      "source": [
        "device = \"cuda\" if torch.cuda.is_available() else \"cpu\"\n",
        "device"
      ],
      "metadata": {
        "colab": {
          "base_uri": "https://localhost:8080/",
          "height": 35
        },
        "id": "sv4WdmWSIm47",
        "outputId": "beb3d23b-098a-426e-9af4-c25c136828f4"
      },
      "execution_count": 6,
      "outputs": [
        {
          "output_type": "execute_result",
          "data": {
            "text/plain": [
              "'cuda'"
            ],
            "application/vnd.google.colaboratory.intrinsic+json": {
              "type": "string"
            }
          },
          "metadata": {},
          "execution_count": 6
        }
      ]
    },
    {
      "cell_type": "markdown",
      "metadata": {
        "pycharm": {
          "name": "#%% md\n"
        },
        "id": "ry8lraUMIT0A"
      },
      "source": [
        "### Создание объекта нейросети"
      ]
    },
    {
      "cell_type": "code",
      "execution_count": 7,
      "metadata": {
        "pycharm": {
          "name": "#%%\n"
        },
        "id": "1blv1TNWIT0C"
      },
      "outputs": [],
      "source": [
        "net = nn.Sequential(\n",
        "    nn.Linear(700, 500),\n",
        "    nn.ReLU(),\n",
        "    nn.Linear(500, 200),\n",
        "    nn.ReLU(),\n",
        "    nn.Linear(200, 10)\n",
        ")"
      ]
    },
    {
      "cell_type": "code",
      "execution_count": 8,
      "metadata": {
        "pycharm": {
          "name": "#%%\n"
        },
        "id": "ez2XNkG_IT0D",
        "outputId": "0ca9136f-fadf-48ab-cff0-a46fd6ef369b",
        "colab": {
          "base_uri": "https://localhost:8080/"
        }
      },
      "outputs": [
        {
          "output_type": "execute_result",
          "data": {
            "text/plain": [
              "Sequential(\n",
              "  (0): Linear(in_features=700, out_features=500, bias=True)\n",
              "  (1): ReLU()\n",
              "  (2): Linear(in_features=500, out_features=200, bias=True)\n",
              "  (3): ReLU()\n",
              "  (4): Linear(in_features=200, out_features=10, bias=True)\n",
              ")"
            ]
          },
          "metadata": {},
          "execution_count": 8
        }
      ],
      "source": [
        "net"
      ]
    },
    {
      "cell_type": "code",
      "execution_count": 10,
      "metadata": {
        "id": "wgAbnF6xIT0E",
        "outputId": "12ece7c7-2201-400c-9343-d78536960826",
        "colab": {
          "base_uri": "https://localhost:8080/"
        }
      },
      "outputs": [
        {
          "output_type": "execute_result",
          "data": {
            "text/plain": [
              "ReLU()"
            ]
          },
          "metadata": {},
          "execution_count": 10
        }
      ],
      "source": [
        "net[1]"
      ]
    },
    {
      "cell_type": "code",
      "execution_count": 12,
      "metadata": {
        "id": "8F_2FhYUIT0E",
        "outputId": "156648bf-4078-4492-cb65-8d189177a405",
        "colab": {
          "base_uri": "https://localhost:8080/"
        }
      },
      "outputs": [
        {
          "output_type": "execute_result",
          "data": {
            "text/plain": [
              "tensor([[-0.1412,  0.0074, -0.0167,  0.0939, -0.0294,  0.0939, -0.0387, -0.1157,\n",
              "         -0.1341, -0.0507]], grad_fn=<AddmmBackward0>)"
            ]
          },
          "metadata": {},
          "execution_count": 12
        }
      ],
      "source": [
        "x = torch.rand(1, 700)\n",
        "\n",
        "net(x)"
      ]
    },
    {
      "cell_type": "code",
      "execution_count": 13,
      "metadata": {
        "pycharm": {
          "name": "#%%\n"
        },
        "id": "rSAJrDCyIT0F"
      },
      "outputs": [],
      "source": [
        "from collections import OrderedDict\n",
        "\n",
        "net = nn.Sequential(\n",
        "    OrderedDict(\n",
        "        [\n",
        "            ('linear1', nn.Linear(700, 500)),\n",
        "            ('relu1', nn.ReLU()),\n",
        "            ('linear2', nn.Linear(500, 200)),\n",
        "            ('relu2', nn.ReLU()),\n",
        "            ('linear3', nn.Linear(200, 10))\n",
        "        ]\n",
        "    )\n",
        ")"
      ]
    },
    {
      "cell_type": "code",
      "execution_count": 14,
      "metadata": {
        "id": "qGXJfFBEIT0F",
        "outputId": "b16815d7-be23-42c0-e9aa-1de34ccd88d4",
        "colab": {
          "base_uri": "https://localhost:8080/"
        }
      },
      "outputs": [
        {
          "output_type": "execute_result",
          "data": {
            "text/plain": [
              "Sequential(\n",
              "  (linear1): Linear(in_features=700, out_features=500, bias=True)\n",
              "  (relu1): ReLU()\n",
              "  (linear2): Linear(in_features=500, out_features=200, bias=True)\n",
              "  (relu2): ReLU()\n",
              "  (linear3): Linear(in_features=200, out_features=10, bias=True)\n",
              ")"
            ]
          },
          "metadata": {},
          "execution_count": 14
        }
      ],
      "source": [
        "net"
      ]
    },
    {
      "cell_type": "code",
      "execution_count": 15,
      "metadata": {
        "pycharm": {
          "name": "#%%\n"
        },
        "id": "MD71MrHKIT0F",
        "outputId": "82cf1adb-adee-4ecd-f55e-d75d8b0f75b4",
        "colab": {
          "base_uri": "https://localhost:8080/"
        }
      },
      "outputs": [
        {
          "output_type": "execute_result",
          "data": {
            "text/plain": [
              "Linear(in_features=700, out_features=500, bias=True)"
            ]
          },
          "metadata": {},
          "execution_count": 15
        }
      ],
      "source": [
        "net.linear1"
      ]
    },
    {
      "cell_type": "code",
      "execution_count": 16,
      "metadata": {
        "pycharm": {
          "name": "#%%\n"
        },
        "id": "Cca8oS1pIT0G",
        "outputId": "28c63703-96b2-4473-e81f-5dbffabde5ff",
        "colab": {
          "base_uri": "https://localhost:8080/"
        }
      },
      "outputs": [
        {
          "output_type": "execute_result",
          "data": {
            "text/plain": [
              "torch.Size([6, 10])"
            ]
          },
          "metadata": {},
          "execution_count": 16
        }
      ],
      "source": [
        "input_tensor = torch.rand(6, 700)\n",
        "\n",
        "net(input_tensor).shape"
      ]
    },
    {
      "cell_type": "code",
      "execution_count": 17,
      "metadata": {
        "pycharm": {
          "name": "#%%\n"
        },
        "id": "ChmFtJRIIT0G"
      },
      "outputs": [],
      "source": [
        "# необходимо отнаследоваться от nn.Module и определить методы __init__ и forward\n",
        "\n",
        "class CustomTaskNetwork(nn.Module):\n",
        "    def __init__(self):\n",
        "        super().__init__()\n",
        "\n",
        "        self.linear1 = nn.Linear(700, 500)\n",
        "        self.linear2 = nn.Linear(500, 500)\n",
        "        self.linear3 = nn.Linear(500, 10)\n",
        "\n",
        "        self.activation = nn.ReLU()\n",
        "\n",
        "    def forward(self, x):\n",
        "        output = self.activation(self.linear1(x))\n",
        "        output = self.activation(self.linear2(output))\n",
        "        output = self.linear3(output)\n",
        "\n",
        "        return output"
      ]
    },
    {
      "cell_type": "code",
      "execution_count": 19,
      "metadata": {
        "pycharm": {
          "name": "#%%\n"
        },
        "id": "w_ckhOSzIT0G",
        "colab": {
          "base_uri": "https://localhost:8080/"
        },
        "outputId": "e665f8c4-a776-46ac-a745-41d135d46b1c"
      },
      "outputs": [
        {
          "output_type": "execute_result",
          "data": {
            "text/plain": [
              "CustomTaskNetwork(\n",
              "  (linear1): Linear(in_features=700, out_features=500, bias=True)\n",
              "  (linear2): Linear(in_features=500, out_features=500, bias=True)\n",
              "  (linear3): Linear(in_features=500, out_features=10, bias=True)\n",
              "  (activation): ReLU()\n",
              ")"
            ]
          },
          "metadata": {},
          "execution_count": 19
        }
      ],
      "source": [
        "net = CustomTaskNetwork()\n",
        "net"
      ]
    },
    {
      "cell_type": "code",
      "source": [
        "net.state_dict()"
      ],
      "metadata": {
        "colab": {
          "base_uri": "https://localhost:8080/"
        },
        "id": "f3ZJJ3IEMFPM",
        "outputId": "864fb30e-4f42-45c8-db54-8e0675008966"
      },
      "execution_count": 21,
      "outputs": [
        {
          "output_type": "execute_result",
          "data": {
            "text/plain": [
              "OrderedDict([('linear1.weight',\n",
              "              tensor([[-0.0046, -0.0147, -0.0108,  ..., -0.0097, -0.0142, -0.0183],\n",
              "                      [-0.0269,  0.0245,  0.0160,  ...,  0.0221,  0.0033, -0.0027],\n",
              "                      [-0.0318, -0.0120, -0.0059,  ..., -0.0002, -0.0039,  0.0289],\n",
              "                      ...,\n",
              "                      [ 0.0335, -0.0154, -0.0097,  ..., -0.0269,  0.0093, -0.0069],\n",
              "                      [ 0.0231, -0.0092,  0.0288,  ...,  0.0022,  0.0373,  0.0132],\n",
              "                      [ 0.0060, -0.0098, -0.0267,  ..., -0.0337,  0.0169, -0.0013]])),\n",
              "             ('linear1.bias',\n",
              "              tensor([-2.1088e-02,  1.0055e-02, -7.7552e-03, -1.9122e-02, -3.3471e-02,\n",
              "                      -2.0890e-02,  1.7957e-02,  2.6099e-02,  3.0136e-02, -3.0112e-02,\n",
              "                       2.7849e-02, -1.2145e-02, -2.8552e-02,  1.0605e-02, -7.8391e-03,\n",
              "                      -2.5345e-02,  6.5207e-03,  3.5297e-02,  1.6740e-02,  6.9777e-03,\n",
              "                      -3.3125e-02,  1.8327e-02,  1.6675e-02,  1.7545e-02,  7.4183e-03,\n",
              "                      -3.3241e-02,  6.3233e-03, -1.6696e-02, -1.5523e-02, -2.8453e-02,\n",
              "                       6.5478e-03,  2.4674e-02, -3.0306e-02, -1.9385e-02,  1.4468e-02,\n",
              "                      -2.1729e-03, -8.4098e-03, -3.4562e-02, -3.6783e-02,  2.9103e-02,\n",
              "                      -1.9729e-02, -2.3040e-02,  2.1877e-02,  6.0152e-03,  1.1391e-02,\n",
              "                      -6.1097e-03,  3.3665e-02, -8.8738e-03,  2.9855e-02, -3.3741e-02,\n",
              "                      -1.2577e-02,  3.6876e-02,  8.4248e-03,  2.4642e-02,  1.0302e-02,\n",
              "                      -6.1079e-05,  7.1781e-03, -8.0475e-03,  3.1832e-02,  2.9259e-02,\n",
              "                      -1.5856e-03,  1.4783e-02,  1.7176e-02,  1.3105e-02, -6.7287e-03,\n",
              "                       7.3206e-03,  2.7062e-02, -1.4028e-02,  2.2943e-02,  2.3746e-02,\n",
              "                      -3.6304e-02,  3.6079e-02, -2.3212e-02, -3.6907e-02,  2.5203e-02,\n",
              "                      -1.2118e-02,  2.9581e-02,  2.1207e-02, -1.2558e-02,  1.9321e-02,\n",
              "                      -8.6805e-03,  2.7435e-02, -2.9800e-02, -7.4419e-03,  3.1814e-02,\n",
              "                      -2.1617e-02,  4.0231e-03,  1.6897e-03, -2.7224e-02,  2.2252e-02,\n",
              "                      -7.8276e-03, -5.8323e-03,  2.1604e-02,  2.0243e-02, -3.0634e-02,\n",
              "                      -2.7636e-02,  2.7618e-02, -3.7075e-02,  2.7422e-02,  3.3624e-02,\n",
              "                       2.0136e-02, -1.3579e-02, -2.2899e-02, -1.4406e-02,  2.4088e-02,\n",
              "                      -9.2240e-03,  2.6004e-02,  4.2309e-03, -2.8261e-03, -3.2937e-02,\n",
              "                       3.1131e-02,  2.3983e-02,  2.5834e-02, -2.6628e-02, -2.7433e-03,\n",
              "                       1.2604e-02, -2.5830e-02,  7.5568e-03,  1.7652e-02,  2.4667e-02,\n",
              "                      -1.8043e-02,  3.3015e-02,  2.3048e-02, -2.3558e-02,  3.4824e-02,\n",
              "                      -2.8269e-02, -3.1550e-02, -2.7370e-02, -2.6664e-02,  7.4422e-03,\n",
              "                      -2.6541e-03,  3.2709e-02, -1.3939e-02, -2.2142e-03,  3.4098e-02,\n",
              "                      -2.3110e-02, -1.9643e-02,  2.7051e-02,  5.9541e-03,  1.0441e-02,\n",
              "                      -3.7375e-02,  1.6852e-02, -1.5934e-03,  3.5533e-02,  1.0102e-02,\n",
              "                       3.3332e-02,  1.0482e-02, -1.4666e-03, -9.0070e-04, -2.3667e-02,\n",
              "                       9.0613e-03,  3.0280e-02, -2.8597e-02, -4.7025e-03, -3.0936e-02,\n",
              "                       3.3503e-02,  7.9252e-03,  3.6596e-02,  2.0123e-02, -1.7245e-02,\n",
              "                       3.3844e-02,  3.7385e-03,  3.1676e-02, -3.1413e-03,  3.0088e-02,\n",
              "                       2.7965e-02,  9.2660e-03, -1.5061e-02,  2.0272e-02,  1.7319e-02,\n",
              "                       1.1421e-02,  1.6356e-02, -2.4352e-02,  2.3212e-02, -1.2722e-02,\n",
              "                      -9.1015e-03, -3.1929e-02, -1.6754e-03, -1.4019e-02,  3.1846e-02,\n",
              "                      -9.5939e-03,  2.3547e-02,  2.9385e-02,  2.3610e-02, -2.9643e-02,\n",
              "                      -3.4354e-02,  1.0636e-02,  3.2803e-02, -3.7144e-02,  1.3430e-02,\n",
              "                       4.3989e-03,  1.3182e-02, -3.5367e-02, -1.0653e-02, -2.4406e-02,\n",
              "                      -2.6916e-02,  1.7391e-02,  4.7808e-04,  2.8604e-02,  3.6015e-02,\n",
              "                       1.8232e-02, -3.7585e-02,  3.0150e-02,  1.7946e-02,  7.0479e-04,\n",
              "                       8.1254e-03, -1.2554e-03,  3.6734e-02,  1.0598e-02, -2.4759e-02,\n",
              "                      -2.6136e-02, -2.6340e-02,  2.1876e-02,  1.2150e-02,  1.5493e-02,\n",
              "                      -3.3803e-03,  2.9934e-02, -2.7638e-02,  2.2518e-02, -1.3672e-02,\n",
              "                       1.8667e-02,  3.6630e-02,  3.4238e-02, -1.9072e-02, -2.3200e-02,\n",
              "                       2.3868e-02, -4.1296e-03,  3.5641e-03, -1.7887e-02, -2.8080e-02,\n",
              "                       2.5498e-02,  2.9298e-02,  2.2406e-02, -2.5950e-03,  2.8695e-02,\n",
              "                       3.1996e-03,  3.5602e-02, -2.1324e-02, -1.2049e-02,  3.8762e-03,\n",
              "                       1.8266e-03, -3.7611e-02,  3.0309e-02, -2.4930e-02,  2.9155e-02,\n",
              "                      -3.2713e-02,  1.3671e-02, -1.9708e-02, -6.1535e-03, -1.0558e-02,\n",
              "                      -1.5693e-02, -3.4235e-02, -3.5057e-02,  1.6365e-02,  2.7775e-02,\n",
              "                      -3.3592e-02,  4.2016e-03,  9.7943e-03,  1.4701e-02, -2.3763e-02,\n",
              "                      -2.8359e-02, -2.5611e-02, -9.1226e-03,  4.2522e-03,  3.1462e-02,\n",
              "                      -2.0447e-02, -1.0213e-02, -1.2950e-02,  1.5270e-02, -1.2357e-02,\n",
              "                      -2.4148e-02, -1.3724e-02, -3.7999e-03,  1.8555e-02, -1.9261e-02,\n",
              "                      -2.4181e-02, -2.7522e-02, -2.5183e-02,  2.8741e-02,  2.1401e-02,\n",
              "                      -3.3081e-02,  2.3929e-02,  1.3709e-02, -3.1708e-02,  7.9679e-04,\n",
              "                       2.9082e-02,  3.7677e-02,  1.6617e-02, -3.7382e-02, -3.3329e-02,\n",
              "                      -1.0952e-02, -6.0063e-03,  2.9784e-02, -1.5767e-02,  7.5520e-03,\n",
              "                      -3.4725e-02, -1.1838e-02, -2.2909e-03, -1.1572e-02,  1.8612e-02,\n",
              "                      -7.8427e-03, -1.4418e-02,  3.5646e-02,  2.8472e-02, -2.9033e-03,\n",
              "                       3.7322e-02, -2.1974e-02, -1.8507e-03, -4.0348e-03, -1.5332e-02,\n",
              "                      -2.6000e-02, -1.8626e-02, -1.7881e-02, -2.8806e-02, -4.8746e-03,\n",
              "                       5.2117e-04, -3.5524e-02,  3.5276e-02,  1.9274e-02, -1.4597e-02,\n",
              "                       3.7489e-02,  2.4153e-02, -5.2726e-03,  3.5320e-02,  1.3490e-02,\n",
              "                      -2.2662e-02, -2.7852e-02, -1.0120e-02,  8.4886e-03, -3.0992e-02,\n",
              "                      -2.0506e-02,  7.5290e-04, -1.5898e-02,  1.6921e-02,  2.0459e-03,\n",
              "                      -1.7894e-02,  2.9129e-02, -5.4935e-03, -2.9863e-02,  1.9031e-03,\n",
              "                      -3.3494e-02,  2.4294e-02, -3.7473e-02, -1.8028e-03,  2.4746e-02,\n",
              "                       6.6127e-03,  2.1944e-02, -1.3487e-02,  2.9026e-02, -2.1637e-02,\n",
              "                      -2.6116e-02, -1.6284e-05, -7.8429e-03, -2.5580e-02, -3.3264e-02,\n",
              "                       2.3889e-02, -2.2489e-02,  3.3062e-02,  2.7630e-02, -2.4447e-02,\n",
              "                       1.5234e-02,  6.6940e-03,  3.6024e-02,  2.6909e-02, -2.7675e-02,\n",
              "                       5.4294e-03,  5.2006e-03,  2.9157e-02,  3.4057e-02,  6.1873e-04,\n",
              "                       1.3365e-02, -3.5609e-02, -1.8890e-02,  1.7682e-02, -5.2733e-03,\n",
              "                      -1.7077e-02, -2.4927e-02,  9.5001e-03,  1.3495e-02, -1.3850e-04,\n",
              "                      -3.6141e-02,  1.7146e-02, -3.0712e-02, -1.6967e-03, -1.8722e-02,\n",
              "                      -3.5153e-05,  1.5529e-02,  1.9934e-02, -2.4996e-02, -1.5817e-02,\n",
              "                       2.5603e-02, -5.3140e-03, -1.9459e-02, -9.2029e-03, -2.6543e-02,\n",
              "                       2.1321e-03,  2.9912e-02, -1.5243e-02, -7.7429e-03,  5.0050e-03,\n",
              "                       3.0519e-02, -7.3945e-03, -3.1097e-03, -1.3865e-02,  9.9026e-03,\n",
              "                      -3.2466e-02, -3.7627e-02, -1.3422e-02, -1.0427e-02,  2.1377e-03,\n",
              "                      -6.0688e-03,  2.8623e-02, -9.8816e-03, -1.5493e-02, -3.3663e-02,\n",
              "                      -1.2207e-02,  2.0714e-02,  7.5187e-03,  3.7671e-02,  3.1614e-04,\n",
              "                      -2.4504e-02, -3.7076e-02,  2.8945e-02, -2.3758e-02, -1.3764e-02,\n",
              "                       1.8083e-02,  2.4609e-02,  1.6331e-02,  1.9995e-02,  2.4576e-02,\n",
              "                       3.0222e-02, -4.0500e-03, -3.3403e-03, -1.6479e-02, -2.8774e-03,\n",
              "                       3.4440e-03, -6.8797e-03, -2.2185e-02,  3.1309e-02, -1.9372e-03,\n",
              "                      -2.4458e-02,  2.3783e-02,  2.2976e-02,  3.0641e-02, -1.9648e-02,\n",
              "                       2.1407e-03, -3.6643e-02, -2.4720e-02,  1.6860e-02, -2.2766e-02,\n",
              "                       1.4337e-02,  2.0908e-02,  1.5782e-02, -5.3099e-03,  9.5026e-03,\n",
              "                       3.2643e-02, -3.3406e-02, -1.7788e-02, -9.5856e-03, -1.9034e-03,\n",
              "                       2.6211e-02,  9.1809e-03,  8.5669e-03,  6.3824e-03, -6.7577e-03,\n",
              "                      -1.9724e-02, -1.6573e-02, -2.1311e-02,  2.8633e-02, -3.2395e-02,\n",
              "                       1.2633e-02, -1.5238e-02, -3.7148e-02,  5.4258e-03,  2.6598e-02,\n",
              "                      -3.4482e-02, -1.2404e-02,  1.3461e-02, -2.9659e-02,  1.5229e-02,\n",
              "                      -3.2967e-02, -3.2873e-03, -1.5344e-03,  3.0648e-02, -1.8912e-03,\n",
              "                       2.7574e-02,  2.2823e-02, -3.5906e-02, -5.1922e-03,  4.7518e-03,\n",
              "                      -7.5980e-03, -2.3305e-02,  1.6202e-02,  1.0993e-02,  1.2283e-02,\n",
              "                      -3.3819e-02, -5.9721e-03, -3.4620e-02,  2.0248e-02,  2.4543e-02])),\n",
              "             ('linear2.weight',\n",
              "              tensor([[-0.0402,  0.0283,  0.0263,  ...,  0.0190,  0.0062,  0.0207],\n",
              "                      [-0.0305,  0.0241, -0.0027,  ..., -0.0121,  0.0265, -0.0412],\n",
              "                      [ 0.0403,  0.0433, -0.0336,  ..., -0.0290,  0.0308,  0.0265],\n",
              "                      ...,\n",
              "                      [ 0.0118,  0.0286,  0.0321,  ...,  0.0309,  0.0178,  0.0350],\n",
              "                      [ 0.0219, -0.0409, -0.0249,  ..., -0.0075,  0.0112, -0.0412],\n",
              "                      [ 0.0391, -0.0251,  0.0126,  ..., -0.0289, -0.0140, -0.0266]])),\n",
              "             ('linear2.bias',\n",
              "              tensor([ 0.0034,  0.0428,  0.0163,  0.0247, -0.0372, -0.0156,  0.0023, -0.0048,\n",
              "                      -0.0259, -0.0240,  0.0109, -0.0052,  0.0053,  0.0254, -0.0429,  0.0255,\n",
              "                       0.0243, -0.0398, -0.0186,  0.0082,  0.0180,  0.0305, -0.0264, -0.0196,\n",
              "                       0.0145, -0.0173,  0.0378, -0.0424,  0.0216,  0.0083,  0.0173, -0.0260,\n",
              "                       0.0337,  0.0125, -0.0428, -0.0404,  0.0376, -0.0266, -0.0347,  0.0442,\n",
              "                      -0.0190, -0.0107, -0.0166, -0.0098,  0.0203, -0.0052, -0.0018,  0.0077,\n",
              "                       0.0134,  0.0328,  0.0032,  0.0238,  0.0382,  0.0102,  0.0097,  0.0187,\n",
              "                      -0.0257,  0.0304,  0.0388,  0.0267,  0.0269, -0.0171,  0.0414, -0.0082,\n",
              "                       0.0382,  0.0187,  0.0323,  0.0177, -0.0297,  0.0250,  0.0203,  0.0364,\n",
              "                       0.0275,  0.0013, -0.0099, -0.0447, -0.0296,  0.0409, -0.0354, -0.0015,\n",
              "                       0.0303, -0.0412,  0.0224,  0.0069, -0.0403,  0.0318,  0.0177,  0.0124,\n",
              "                      -0.0088, -0.0355,  0.0077, -0.0172,  0.0275,  0.0071, -0.0163, -0.0335,\n",
              "                      -0.0002, -0.0293,  0.0159, -0.0047,  0.0270, -0.0281, -0.0201,  0.0257,\n",
              "                      -0.0154,  0.0325, -0.0231,  0.0191,  0.0312, -0.0139, -0.0380, -0.0226,\n",
              "                      -0.0215, -0.0265,  0.0192,  0.0076,  0.0357,  0.0052, -0.0176, -0.0216,\n",
              "                       0.0255,  0.0401,  0.0425,  0.0320, -0.0433, -0.0057,  0.0347, -0.0163,\n",
              "                      -0.0105,  0.0146, -0.0071, -0.0056, -0.0186, -0.0376,  0.0144, -0.0251,\n",
              "                      -0.0066,  0.0323, -0.0032, -0.0388, -0.0142, -0.0332,  0.0375,  0.0266,\n",
              "                       0.0164, -0.0254, -0.0027,  0.0132, -0.0322,  0.0228, -0.0124, -0.0140,\n",
              "                       0.0079,  0.0076, -0.0159,  0.0333, -0.0412,  0.0066, -0.0095, -0.0001,\n",
              "                      -0.0306,  0.0094, -0.0402,  0.0313,  0.0328, -0.0134, -0.0336, -0.0189,\n",
              "                      -0.0128, -0.0377, -0.0234,  0.0050, -0.0004,  0.0179,  0.0183,  0.0401,\n",
              "                      -0.0184,  0.0123,  0.0027,  0.0301,  0.0408,  0.0343,  0.0263,  0.0422,\n",
              "                       0.0231,  0.0026, -0.0023, -0.0075,  0.0187,  0.0014, -0.0090, -0.0163,\n",
              "                      -0.0328, -0.0188,  0.0005, -0.0049, -0.0378, -0.0005, -0.0088, -0.0380,\n",
              "                      -0.0235,  0.0329,  0.0130, -0.0275, -0.0137, -0.0309,  0.0368, -0.0369,\n",
              "                      -0.0247, -0.0003,  0.0401,  0.0368, -0.0339, -0.0029, -0.0118,  0.0232,\n",
              "                       0.0173, -0.0110,  0.0205,  0.0209, -0.0284, -0.0289,  0.0430,  0.0308,\n",
              "                      -0.0020,  0.0035, -0.0219,  0.0291, -0.0140,  0.0424, -0.0437,  0.0114,\n",
              "                       0.0133,  0.0420,  0.0039,  0.0360,  0.0274, -0.0182, -0.0238, -0.0114,\n",
              "                       0.0217,  0.0340,  0.0350,  0.0208, -0.0355,  0.0403, -0.0026,  0.0167,\n",
              "                      -0.0211,  0.0303, -0.0166, -0.0219, -0.0043,  0.0292,  0.0298, -0.0430,\n",
              "                       0.0053,  0.0332, -0.0226,  0.0320,  0.0116, -0.0146,  0.0235, -0.0323,\n",
              "                      -0.0343,  0.0267,  0.0183, -0.0350,  0.0055,  0.0326,  0.0191, -0.0109,\n",
              "                      -0.0311,  0.0128, -0.0161,  0.0077, -0.0094,  0.0183,  0.0277, -0.0069,\n",
              "                      -0.0343,  0.0024, -0.0315,  0.0268,  0.0201,  0.0077, -0.0255, -0.0027,\n",
              "                      -0.0027, -0.0297,  0.0177, -0.0031,  0.0281, -0.0095, -0.0157, -0.0318,\n",
              "                       0.0219, -0.0220,  0.0027, -0.0091,  0.0198,  0.0192, -0.0345, -0.0232,\n",
              "                      -0.0309,  0.0443,  0.0163,  0.0328, -0.0377,  0.0066, -0.0173, -0.0147,\n",
              "                       0.0334,  0.0035,  0.0246,  0.0019,  0.0070,  0.0273, -0.0067, -0.0068,\n",
              "                      -0.0083, -0.0153,  0.0023, -0.0366, -0.0041,  0.0238,  0.0346,  0.0154,\n",
              "                      -0.0263, -0.0352,  0.0359,  0.0183,  0.0060, -0.0109,  0.0295, -0.0166,\n",
              "                      -0.0255, -0.0009,  0.0141,  0.0207, -0.0369,  0.0431, -0.0343, -0.0059,\n",
              "                       0.0005, -0.0426, -0.0205,  0.0071,  0.0189,  0.0141,  0.0193, -0.0289,\n",
              "                       0.0420, -0.0094,  0.0227, -0.0156,  0.0172, -0.0100, -0.0446,  0.0222,\n",
              "                       0.0106, -0.0234, -0.0366, -0.0316, -0.0368, -0.0150,  0.0055, -0.0385,\n",
              "                       0.0074, -0.0224,  0.0145, -0.0356,  0.0046, -0.0014,  0.0252, -0.0010,\n",
              "                       0.0193, -0.0380,  0.0412, -0.0083, -0.0372, -0.0382,  0.0230,  0.0130,\n",
              "                       0.0241, -0.0325, -0.0090,  0.0145,  0.0231,  0.0293, -0.0098, -0.0035,\n",
              "                       0.0172,  0.0435,  0.0426, -0.0172,  0.0042, -0.0352, -0.0437,  0.0295,\n",
              "                      -0.0196,  0.0346, -0.0368, -0.0039, -0.0299, -0.0319,  0.0338,  0.0254,\n",
              "                       0.0175, -0.0219,  0.0353, -0.0334, -0.0119,  0.0362,  0.0377, -0.0135,\n",
              "                      -0.0042,  0.0070,  0.0133,  0.0143, -0.0163,  0.0049,  0.0337,  0.0231,\n",
              "                      -0.0323,  0.0243,  0.0404, -0.0274,  0.0171,  0.0389,  0.0006, -0.0441,\n",
              "                      -0.0015, -0.0445,  0.0340,  0.0421,  0.0114, -0.0243, -0.0092, -0.0402,\n",
              "                       0.0016,  0.0049,  0.0011, -0.0377,  0.0003,  0.0236, -0.0369,  0.0330,\n",
              "                      -0.0005,  0.0161, -0.0268, -0.0152,  0.0424,  0.0336, -0.0438, -0.0328,\n",
              "                      -0.0392, -0.0430,  0.0233, -0.0151,  0.0340, -0.0388,  0.0149, -0.0097,\n",
              "                      -0.0181,  0.0034,  0.0190, -0.0280, -0.0114, -0.0167,  0.0292,  0.0191,\n",
              "                       0.0217, -0.0078, -0.0175,  0.0302,  0.0136, -0.0443,  0.0172, -0.0002,\n",
              "                       0.0037, -0.0260, -0.0222,  0.0424,  0.0394,  0.0116,  0.0409, -0.0421,\n",
              "                       0.0146, -0.0284, -0.0217, -0.0313, -0.0356, -0.0395, -0.0080, -0.0419,\n",
              "                       0.0215, -0.0424, -0.0353, -0.0124])),\n",
              "             ('linear3.weight',\n",
              "              tensor([[ 0.0313, -0.0056,  0.0156,  ..., -0.0097,  0.0022, -0.0443],\n",
              "                      [-0.0181,  0.0347, -0.0230,  ..., -0.0166,  0.0020, -0.0419],\n",
              "                      [-0.0376,  0.0236, -0.0180,  ...,  0.0371, -0.0164,  0.0314],\n",
              "                      ...,\n",
              "                      [ 0.0395, -0.0152,  0.0260,  ...,  0.0249,  0.0231, -0.0141],\n",
              "                      [ 0.0130, -0.0265, -0.0054,  ..., -0.0264, -0.0314,  0.0319],\n",
              "                      [-0.0426, -0.0290, -0.0283,  ..., -0.0154, -0.0330,  0.0123]])),\n",
              "             ('linear3.bias',\n",
              "              tensor([ 0.0406, -0.0222, -0.0079,  0.0007,  0.0099, -0.0348, -0.0156, -0.0126,\n",
              "                       0.0221,  0.0215]))])"
            ]
          },
          "metadata": {},
          "execution_count": 21
        }
      ]
    },
    {
      "cell_type": "code",
      "source": [
        "torch.save(net.state_dict(), \"model.pt\")"
      ],
      "metadata": {
        "id": "zniRL0ykMCYk"
      },
      "execution_count": 22,
      "outputs": []
    },
    {
      "cell_type": "code",
      "execution_count": 23,
      "metadata": {
        "id": "kRWndYr7IT0H",
        "outputId": "109c4233-f662-4201-ebc3-95f897cee4f6",
        "colab": {
          "base_uri": "https://localhost:8080/"
        }
      },
      "outputs": [
        {
          "output_type": "stream",
          "name": "stderr",
          "text": [
            "<ipython-input-23-daa6e0a94d49>:1: FutureWarning: You are using `torch.load` with `weights_only=False` (the current default value), which uses the default pickle module implicitly. It is possible to construct malicious pickle data which will execute arbitrary code during unpickling (See https://github.com/pytorch/pytorch/blob/main/SECURITY.md#untrusted-models for more details). In a future release, the default value for `weights_only` will be flipped to `True`. This limits the functions that could be executed during unpickling. Arbitrary objects will no longer be allowed to be loaded via this mode unless they are explicitly allowlisted by the user via `torch.serialization.add_safe_globals`. We recommend you start setting `weights_only=True` for any use case where you don't have full control of the loaded file. Please open an issue on GitHub for any issues related to this experimental feature.\n",
            "  net.load_state_dict(torch.load(\"model.pt\"))\n"
          ]
        },
        {
          "output_type": "execute_result",
          "data": {
            "text/plain": [
              "<All keys matched successfully>"
            ]
          },
          "metadata": {},
          "execution_count": 23
        }
      ],
      "source": [
        "net.load_state_dict(torch.load(\"model.pt\"))"
      ]
    },
    {
      "cell_type": "code",
      "execution_count": 24,
      "metadata": {
        "id": "uVXw-XiAIT0H",
        "outputId": "751392d6-0167-4ef4-eb00-d0ae7574b080",
        "colab": {
          "base_uri": "https://localhost:8080/"
        }
      },
      "outputs": [
        {
          "output_type": "execute_result",
          "data": {
            "text/plain": [
              "torch.Size([6, 10])"
            ]
          },
          "metadata": {},
          "execution_count": 24
        }
      ],
      "source": [
        "net(input_tensor).shape"
      ]
    },
    {
      "cell_type": "code",
      "execution_count": 25,
      "metadata": {
        "pycharm": {
          "name": "#%%\n"
        },
        "id": "cI-APVdDIT0H",
        "outputId": "c659835f-1083-4b90-c853-509f8c6b2ab1",
        "colab": {
          "base_uri": "https://localhost:8080/"
        }
      },
      "outputs": [
        {
          "output_type": "execute_result",
          "data": {
            "text/plain": [
              "CustomTaskNetwork(\n",
              "  (linear1): Linear(in_features=700, out_features=500, bias=True)\n",
              "  (linear2): Linear(in_features=500, out_features=500, bias=True)\n",
              "  (linear3): Linear(in_features=500, out_features=10, bias=True)\n",
              "  (activation): ReLU()\n",
              ")"
            ]
          },
          "metadata": {},
          "execution_count": 25
        }
      ],
      "source": [
        "# net.to(torch.device('cuda:0'))\n",
        "net.to(device)"
      ]
    },
    {
      "cell_type": "code",
      "execution_count": 26,
      "metadata": {
        "id": "FVU8ZIERIT0I",
        "outputId": "19a04e64-b16b-491c-a524-eb0b2b2544b7",
        "colab": {
          "base_uri": "https://localhost:8080/"
        }
      },
      "outputs": [
        {
          "output_type": "execute_result",
          "data": {
            "text/plain": [
              "device(type='cuda', index=0)"
            ]
          },
          "metadata": {},
          "execution_count": 26
        }
      ],
      "source": [
        "net.linear1.weight.device"
      ]
    },
    {
      "cell_type": "code",
      "execution_count": 27,
      "metadata": {
        "id": "HHq8QP5VIT0I",
        "outputId": "86f09c9a-8a21-4a9d-b42f-5548f9c7a7da",
        "colab": {
          "base_uri": "https://localhost:8080/",
          "height": 311
        }
      },
      "outputs": [
        {
          "output_type": "error",
          "ename": "RuntimeError",
          "evalue": "Expected all tensors to be on the same device, but found at least two devices, cuda:0 and cpu! (when checking argument for argument mat1 in method wrapper_CUDA_addmm)",
          "traceback": [
            "\u001b[0;31m---------------------------------------------------------------------------\u001b[0m",
            "\u001b[0;31mRuntimeError\u001b[0m                              Traceback (most recent call last)",
            "\u001b[0;32m<ipython-input-27-ec5a8680da8d>\u001b[0m in \u001b[0;36m<cell line: 1>\u001b[0;34m()\u001b[0m\n\u001b[0;32m----> 1\u001b[0;31m \u001b[0mnet\u001b[0m\u001b[0;34m(\u001b[0m\u001b[0minput_tensor\u001b[0m\u001b[0;34m)\u001b[0m\u001b[0;34m.\u001b[0m\u001b[0mshape\u001b[0m\u001b[0;34m\u001b[0m\u001b[0;34m\u001b[0m\u001b[0m\n\u001b[0m",
            "\u001b[0;32m/usr/local/lib/python3.10/dist-packages/torch/nn/modules/module.py\u001b[0m in \u001b[0;36m_wrapped_call_impl\u001b[0;34m(self, *args, **kwargs)\u001b[0m\n\u001b[1;32m   1551\u001b[0m             \u001b[0;32mreturn\u001b[0m \u001b[0mself\u001b[0m\u001b[0;34m.\u001b[0m\u001b[0m_compiled_call_impl\u001b[0m\u001b[0;34m(\u001b[0m\u001b[0;34m*\u001b[0m\u001b[0margs\u001b[0m\u001b[0;34m,\u001b[0m \u001b[0;34m**\u001b[0m\u001b[0mkwargs\u001b[0m\u001b[0;34m)\u001b[0m  \u001b[0;31m# type: ignore[misc]\u001b[0m\u001b[0;34m\u001b[0m\u001b[0;34m\u001b[0m\u001b[0m\n\u001b[1;32m   1552\u001b[0m         \u001b[0;32melse\u001b[0m\u001b[0;34m:\u001b[0m\u001b[0;34m\u001b[0m\u001b[0;34m\u001b[0m\u001b[0m\n\u001b[0;32m-> 1553\u001b[0;31m             \u001b[0;32mreturn\u001b[0m \u001b[0mself\u001b[0m\u001b[0;34m.\u001b[0m\u001b[0m_call_impl\u001b[0m\u001b[0;34m(\u001b[0m\u001b[0;34m*\u001b[0m\u001b[0margs\u001b[0m\u001b[0;34m,\u001b[0m \u001b[0;34m**\u001b[0m\u001b[0mkwargs\u001b[0m\u001b[0;34m)\u001b[0m\u001b[0;34m\u001b[0m\u001b[0;34m\u001b[0m\u001b[0m\n\u001b[0m\u001b[1;32m   1554\u001b[0m \u001b[0;34m\u001b[0m\u001b[0m\n\u001b[1;32m   1555\u001b[0m     \u001b[0;32mdef\u001b[0m \u001b[0m_call_impl\u001b[0m\u001b[0;34m(\u001b[0m\u001b[0mself\u001b[0m\u001b[0;34m,\u001b[0m \u001b[0;34m*\u001b[0m\u001b[0margs\u001b[0m\u001b[0;34m,\u001b[0m \u001b[0;34m**\u001b[0m\u001b[0mkwargs\u001b[0m\u001b[0;34m)\u001b[0m\u001b[0;34m:\u001b[0m\u001b[0;34m\u001b[0m\u001b[0;34m\u001b[0m\u001b[0m\n",
            "\u001b[0;32m/usr/local/lib/python3.10/dist-packages/torch/nn/modules/module.py\u001b[0m in \u001b[0;36m_call_impl\u001b[0;34m(self, *args, **kwargs)\u001b[0m\n\u001b[1;32m   1560\u001b[0m                 \u001b[0;32mor\u001b[0m \u001b[0m_global_backward_pre_hooks\u001b[0m \u001b[0;32mor\u001b[0m \u001b[0m_global_backward_hooks\u001b[0m\u001b[0;34m\u001b[0m\u001b[0;34m\u001b[0m\u001b[0m\n\u001b[1;32m   1561\u001b[0m                 or _global_forward_hooks or _global_forward_pre_hooks):\n\u001b[0;32m-> 1562\u001b[0;31m             \u001b[0;32mreturn\u001b[0m \u001b[0mforward_call\u001b[0m\u001b[0;34m(\u001b[0m\u001b[0;34m*\u001b[0m\u001b[0margs\u001b[0m\u001b[0;34m,\u001b[0m \u001b[0;34m**\u001b[0m\u001b[0mkwargs\u001b[0m\u001b[0;34m)\u001b[0m\u001b[0;34m\u001b[0m\u001b[0;34m\u001b[0m\u001b[0m\n\u001b[0m\u001b[1;32m   1563\u001b[0m \u001b[0;34m\u001b[0m\u001b[0m\n\u001b[1;32m   1564\u001b[0m         \u001b[0;32mtry\u001b[0m\u001b[0;34m:\u001b[0m\u001b[0;34m\u001b[0m\u001b[0;34m\u001b[0m\u001b[0m\n",
            "\u001b[0;32m<ipython-input-17-a79b60dd2c25>\u001b[0m in \u001b[0;36mforward\u001b[0;34m(self, x)\u001b[0m\n\u001b[1;32m     12\u001b[0m \u001b[0;34m\u001b[0m\u001b[0m\n\u001b[1;32m     13\u001b[0m     \u001b[0;32mdef\u001b[0m \u001b[0mforward\u001b[0m\u001b[0;34m(\u001b[0m\u001b[0mself\u001b[0m\u001b[0;34m,\u001b[0m \u001b[0mx\u001b[0m\u001b[0;34m)\u001b[0m\u001b[0;34m:\u001b[0m\u001b[0;34m\u001b[0m\u001b[0;34m\u001b[0m\u001b[0m\n\u001b[0;32m---> 14\u001b[0;31m         \u001b[0moutput\u001b[0m \u001b[0;34m=\u001b[0m \u001b[0mself\u001b[0m\u001b[0;34m.\u001b[0m\u001b[0mactivation\u001b[0m\u001b[0;34m(\u001b[0m\u001b[0mself\u001b[0m\u001b[0;34m.\u001b[0m\u001b[0mlinear1\u001b[0m\u001b[0;34m(\u001b[0m\u001b[0mx\u001b[0m\u001b[0;34m)\u001b[0m\u001b[0;34m)\u001b[0m\u001b[0;34m\u001b[0m\u001b[0;34m\u001b[0m\u001b[0m\n\u001b[0m\u001b[1;32m     15\u001b[0m         \u001b[0moutput\u001b[0m \u001b[0;34m=\u001b[0m \u001b[0mself\u001b[0m\u001b[0;34m.\u001b[0m\u001b[0mactivation\u001b[0m\u001b[0;34m(\u001b[0m\u001b[0mself\u001b[0m\u001b[0;34m.\u001b[0m\u001b[0mlinear2\u001b[0m\u001b[0;34m(\u001b[0m\u001b[0moutput\u001b[0m\u001b[0;34m)\u001b[0m\u001b[0;34m)\u001b[0m\u001b[0;34m\u001b[0m\u001b[0;34m\u001b[0m\u001b[0m\n\u001b[1;32m     16\u001b[0m         \u001b[0moutput\u001b[0m \u001b[0;34m=\u001b[0m \u001b[0mself\u001b[0m\u001b[0;34m.\u001b[0m\u001b[0mlinear3\u001b[0m\u001b[0;34m(\u001b[0m\u001b[0moutput\u001b[0m\u001b[0;34m)\u001b[0m\u001b[0;34m\u001b[0m\u001b[0;34m\u001b[0m\u001b[0m\n",
            "\u001b[0;32m/usr/local/lib/python3.10/dist-packages/torch/nn/modules/module.py\u001b[0m in \u001b[0;36m_wrapped_call_impl\u001b[0;34m(self, *args, **kwargs)\u001b[0m\n\u001b[1;32m   1551\u001b[0m             \u001b[0;32mreturn\u001b[0m \u001b[0mself\u001b[0m\u001b[0;34m.\u001b[0m\u001b[0m_compiled_call_impl\u001b[0m\u001b[0;34m(\u001b[0m\u001b[0;34m*\u001b[0m\u001b[0margs\u001b[0m\u001b[0;34m,\u001b[0m \u001b[0;34m**\u001b[0m\u001b[0mkwargs\u001b[0m\u001b[0;34m)\u001b[0m  \u001b[0;31m# type: ignore[misc]\u001b[0m\u001b[0;34m\u001b[0m\u001b[0;34m\u001b[0m\u001b[0m\n\u001b[1;32m   1552\u001b[0m         \u001b[0;32melse\u001b[0m\u001b[0;34m:\u001b[0m\u001b[0;34m\u001b[0m\u001b[0;34m\u001b[0m\u001b[0m\n\u001b[0;32m-> 1553\u001b[0;31m             \u001b[0;32mreturn\u001b[0m \u001b[0mself\u001b[0m\u001b[0;34m.\u001b[0m\u001b[0m_call_impl\u001b[0m\u001b[0;34m(\u001b[0m\u001b[0;34m*\u001b[0m\u001b[0margs\u001b[0m\u001b[0;34m,\u001b[0m \u001b[0;34m**\u001b[0m\u001b[0mkwargs\u001b[0m\u001b[0;34m)\u001b[0m\u001b[0;34m\u001b[0m\u001b[0;34m\u001b[0m\u001b[0m\n\u001b[0m\u001b[1;32m   1554\u001b[0m \u001b[0;34m\u001b[0m\u001b[0m\n\u001b[1;32m   1555\u001b[0m     \u001b[0;32mdef\u001b[0m \u001b[0m_call_impl\u001b[0m\u001b[0;34m(\u001b[0m\u001b[0mself\u001b[0m\u001b[0;34m,\u001b[0m \u001b[0;34m*\u001b[0m\u001b[0margs\u001b[0m\u001b[0;34m,\u001b[0m \u001b[0;34m**\u001b[0m\u001b[0mkwargs\u001b[0m\u001b[0;34m)\u001b[0m\u001b[0;34m:\u001b[0m\u001b[0;34m\u001b[0m\u001b[0;34m\u001b[0m\u001b[0m\n",
            "\u001b[0;32m/usr/local/lib/python3.10/dist-packages/torch/nn/modules/module.py\u001b[0m in \u001b[0;36m_call_impl\u001b[0;34m(self, *args, **kwargs)\u001b[0m\n\u001b[1;32m   1560\u001b[0m                 \u001b[0;32mor\u001b[0m \u001b[0m_global_backward_pre_hooks\u001b[0m \u001b[0;32mor\u001b[0m \u001b[0m_global_backward_hooks\u001b[0m\u001b[0;34m\u001b[0m\u001b[0;34m\u001b[0m\u001b[0m\n\u001b[1;32m   1561\u001b[0m                 or _global_forward_hooks or _global_forward_pre_hooks):\n\u001b[0;32m-> 1562\u001b[0;31m             \u001b[0;32mreturn\u001b[0m \u001b[0mforward_call\u001b[0m\u001b[0;34m(\u001b[0m\u001b[0;34m*\u001b[0m\u001b[0margs\u001b[0m\u001b[0;34m,\u001b[0m \u001b[0;34m**\u001b[0m\u001b[0mkwargs\u001b[0m\u001b[0;34m)\u001b[0m\u001b[0;34m\u001b[0m\u001b[0;34m\u001b[0m\u001b[0m\n\u001b[0m\u001b[1;32m   1563\u001b[0m \u001b[0;34m\u001b[0m\u001b[0m\n\u001b[1;32m   1564\u001b[0m         \u001b[0;32mtry\u001b[0m\u001b[0;34m:\u001b[0m\u001b[0;34m\u001b[0m\u001b[0;34m\u001b[0m\u001b[0m\n",
            "\u001b[0;32m/usr/local/lib/python3.10/dist-packages/torch/nn/modules/linear.py\u001b[0m in \u001b[0;36mforward\u001b[0;34m(self, input)\u001b[0m\n\u001b[1;32m    115\u001b[0m \u001b[0;34m\u001b[0m\u001b[0m\n\u001b[1;32m    116\u001b[0m     \u001b[0;32mdef\u001b[0m \u001b[0mforward\u001b[0m\u001b[0;34m(\u001b[0m\u001b[0mself\u001b[0m\u001b[0;34m,\u001b[0m \u001b[0minput\u001b[0m\u001b[0;34m:\u001b[0m \u001b[0mTensor\u001b[0m\u001b[0;34m)\u001b[0m \u001b[0;34m->\u001b[0m \u001b[0mTensor\u001b[0m\u001b[0;34m:\u001b[0m\u001b[0;34m\u001b[0m\u001b[0;34m\u001b[0m\u001b[0m\n\u001b[0;32m--> 117\u001b[0;31m         \u001b[0;32mreturn\u001b[0m \u001b[0mF\u001b[0m\u001b[0;34m.\u001b[0m\u001b[0mlinear\u001b[0m\u001b[0;34m(\u001b[0m\u001b[0minput\u001b[0m\u001b[0;34m,\u001b[0m \u001b[0mself\u001b[0m\u001b[0;34m.\u001b[0m\u001b[0mweight\u001b[0m\u001b[0;34m,\u001b[0m \u001b[0mself\u001b[0m\u001b[0;34m.\u001b[0m\u001b[0mbias\u001b[0m\u001b[0;34m)\u001b[0m\u001b[0;34m\u001b[0m\u001b[0;34m\u001b[0m\u001b[0m\n\u001b[0m\u001b[1;32m    118\u001b[0m \u001b[0;34m\u001b[0m\u001b[0m\n\u001b[1;32m    119\u001b[0m     \u001b[0;32mdef\u001b[0m \u001b[0mextra_repr\u001b[0m\u001b[0;34m(\u001b[0m\u001b[0mself\u001b[0m\u001b[0;34m)\u001b[0m \u001b[0;34m->\u001b[0m \u001b[0mstr\u001b[0m\u001b[0;34m:\u001b[0m\u001b[0;34m\u001b[0m\u001b[0;34m\u001b[0m\u001b[0m\n",
            "\u001b[0;31mRuntimeError\u001b[0m: Expected all tensors to be on the same device, but found at least two devices, cuda:0 and cpu! (when checking argument for argument mat1 in method wrapper_CUDA_addmm)"
          ]
        }
      ],
      "source": [
        "net(input_tensor).shape"
      ]
    },
    {
      "cell_type": "code",
      "execution_count": 28,
      "metadata": {
        "id": "Geeqfm7xIT0I",
        "outputId": "6e9650ff-db91-4291-c2a9-a276b39997b5",
        "colab": {
          "base_uri": "https://localhost:8080/"
        }
      },
      "outputs": [
        {
          "output_type": "execute_result",
          "data": {
            "text/plain": [
              "torch.Size([6, 10])"
            ]
          },
          "metadata": {},
          "execution_count": 28
        }
      ],
      "source": [
        "net(input_tensor.cuda()).shape"
      ]
    },
    {
      "cell_type": "code",
      "execution_count": 29,
      "metadata": {
        "id": "wPmMmKxnIT0J",
        "outputId": "ceec55ce-d71b-4c3b-fd03-deb55b03005a",
        "colab": {
          "base_uri": "https://localhost:8080/"
        }
      },
      "outputs": [
        {
          "output_type": "execute_result",
          "data": {
            "text/plain": [
              "CustomTaskNetwork(\n",
              "  (linear1): Linear(in_features=700, out_features=500, bias=True)\n",
              "  (linear2): Linear(in_features=500, out_features=500, bias=True)\n",
              "  (linear3): Linear(in_features=500, out_features=10, bias=True)\n",
              "  (activation): ReLU()\n",
              ")"
            ]
          },
          "metadata": {},
          "execution_count": 29
        }
      ],
      "source": [
        "net.cpu()"
      ]
    },
    {
      "cell_type": "code",
      "execution_count": 30,
      "metadata": {
        "id": "hIlDUG7eIT0J",
        "outputId": "e8ff9082-2333-4ba8-d6fe-914fcc0a71c8",
        "colab": {
          "base_uri": "https://localhost:8080/"
        }
      },
      "outputs": [
        {
          "output_type": "execute_result",
          "data": {
            "text/plain": [
              "CustomTaskNetwork(\n",
              "  (linear1): Linear(in_features=700, out_features=500, bias=True)\n",
              "  (linear2): Linear(in_features=500, out_features=500, bias=True)\n",
              "  (linear3): Linear(in_features=500, out_features=10, bias=True)\n",
              "  (activation): ReLU()\n",
              ")"
            ]
          },
          "metadata": {},
          "execution_count": 30
        }
      ],
      "source": [
        "net.train()"
      ]
    },
    {
      "cell_type": "code",
      "execution_count": 31,
      "metadata": {
        "id": "-lyyknMeIT0J",
        "outputId": "5dfd592d-1e59-43f3-93d5-dc417730f41e",
        "colab": {
          "base_uri": "https://localhost:8080/"
        }
      },
      "outputs": [
        {
          "output_type": "execute_result",
          "data": {
            "text/plain": [
              "True"
            ]
          },
          "metadata": {},
          "execution_count": 31
        }
      ],
      "source": [
        "net.training"
      ]
    },
    {
      "cell_type": "code",
      "execution_count": 32,
      "metadata": {
        "id": "d3G6JYzDIT0J",
        "outputId": "873c9832-9c7a-4a64-b6d1-0beec29697e6",
        "colab": {
          "base_uri": "https://localhost:8080/"
        }
      },
      "outputs": [
        {
          "output_type": "execute_result",
          "data": {
            "text/plain": [
              "CustomTaskNetwork(\n",
              "  (linear1): Linear(in_features=700, out_features=500, bias=True)\n",
              "  (linear2): Linear(in_features=500, out_features=500, bias=True)\n",
              "  (linear3): Linear(in_features=500, out_features=10, bias=True)\n",
              "  (activation): ReLU()\n",
              ")"
            ]
          },
          "metadata": {},
          "execution_count": 32
        }
      ],
      "source": [
        "net.eval()"
      ]
    },
    {
      "cell_type": "code",
      "execution_count": 33,
      "metadata": {
        "id": "WML1JOeGIT0K",
        "outputId": "b585b449-b39c-495d-9166-ef80171f6076",
        "colab": {
          "base_uri": "https://localhost:8080/"
        }
      },
      "outputs": [
        {
          "output_type": "execute_result",
          "data": {
            "text/plain": [
              "False"
            ]
          },
          "metadata": {},
          "execution_count": 33
        }
      ],
      "source": [
        "net.training"
      ]
    },
    {
      "cell_type": "code",
      "execution_count": 34,
      "metadata": {
        "pycharm": {
          "name": "#%%\n"
        },
        "id": "fTei3n4cIT0K",
        "outputId": "e225e50f-7d63-488b-9460-3ed5e4903bed",
        "colab": {
          "base_uri": "https://localhost:8080/"
        }
      },
      "outputs": [
        {
          "output_type": "execute_result",
          "data": {
            "text/plain": [
              "Parameter containing:\n",
              "tensor([[-0.0046, -0.0147, -0.0108,  ..., -0.0097, -0.0142, -0.0183],\n",
              "        [-0.0269,  0.0245,  0.0160,  ...,  0.0221,  0.0033, -0.0027],\n",
              "        [-0.0318, -0.0120, -0.0059,  ..., -0.0002, -0.0039,  0.0289],\n",
              "        ...,\n",
              "        [ 0.0335, -0.0154, -0.0097,  ..., -0.0269,  0.0093, -0.0069],\n",
              "        [ 0.0231, -0.0092,  0.0288,  ...,  0.0022,  0.0373,  0.0132],\n",
              "        [ 0.0060, -0.0098, -0.0267,  ..., -0.0337,  0.0169, -0.0013]],\n",
              "       requires_grad=True)"
            ]
          },
          "metadata": {},
          "execution_count": 34
        }
      ],
      "source": [
        "net.linear1.weight"
      ]
    },
    {
      "cell_type": "code",
      "execution_count": 35,
      "metadata": {
        "pycharm": {
          "name": "#%%\n"
        },
        "scrolled": true,
        "id": "xVtBTxzZIT0K",
        "outputId": "f502a875-366c-4a81-fc2b-0735e175ea15",
        "colab": {
          "base_uri": "https://localhost:8080/"
        }
      },
      "outputs": [
        {
          "output_type": "execute_result",
          "data": {
            "text/plain": [
              "[Parameter containing:\n",
              " tensor([[-0.0046, -0.0147, -0.0108,  ..., -0.0097, -0.0142, -0.0183],\n",
              "         [-0.0269,  0.0245,  0.0160,  ...,  0.0221,  0.0033, -0.0027],\n",
              "         [-0.0318, -0.0120, -0.0059,  ..., -0.0002, -0.0039,  0.0289],\n",
              "         ...,\n",
              "         [ 0.0335, -0.0154, -0.0097,  ..., -0.0269,  0.0093, -0.0069],\n",
              "         [ 0.0231, -0.0092,  0.0288,  ...,  0.0022,  0.0373,  0.0132],\n",
              "         [ 0.0060, -0.0098, -0.0267,  ..., -0.0337,  0.0169, -0.0013]],\n",
              "        requires_grad=True),\n",
              " Parameter containing:\n",
              " tensor([-2.1088e-02,  1.0055e-02, -7.7552e-03, -1.9122e-02, -3.3471e-02,\n",
              "         -2.0890e-02,  1.7957e-02,  2.6099e-02,  3.0136e-02, -3.0112e-02,\n",
              "          2.7849e-02, -1.2145e-02, -2.8552e-02,  1.0605e-02, -7.8391e-03,\n",
              "         -2.5345e-02,  6.5207e-03,  3.5297e-02,  1.6740e-02,  6.9777e-03,\n",
              "         -3.3125e-02,  1.8327e-02,  1.6675e-02,  1.7545e-02,  7.4183e-03,\n",
              "         -3.3241e-02,  6.3233e-03, -1.6696e-02, -1.5523e-02, -2.8453e-02,\n",
              "          6.5478e-03,  2.4674e-02, -3.0306e-02, -1.9385e-02,  1.4468e-02,\n",
              "         -2.1729e-03, -8.4098e-03, -3.4562e-02, -3.6783e-02,  2.9103e-02,\n",
              "         -1.9729e-02, -2.3040e-02,  2.1877e-02,  6.0152e-03,  1.1391e-02,\n",
              "         -6.1097e-03,  3.3665e-02, -8.8738e-03,  2.9855e-02, -3.3741e-02,\n",
              "         -1.2577e-02,  3.6876e-02,  8.4248e-03,  2.4642e-02,  1.0302e-02,\n",
              "         -6.1079e-05,  7.1781e-03, -8.0475e-03,  3.1832e-02,  2.9259e-02,\n",
              "         -1.5856e-03,  1.4783e-02,  1.7176e-02,  1.3105e-02, -6.7287e-03,\n",
              "          7.3206e-03,  2.7062e-02, -1.4028e-02,  2.2943e-02,  2.3746e-02,\n",
              "         -3.6304e-02,  3.6079e-02, -2.3212e-02, -3.6907e-02,  2.5203e-02,\n",
              "         -1.2118e-02,  2.9581e-02,  2.1207e-02, -1.2558e-02,  1.9321e-02,\n",
              "         -8.6805e-03,  2.7435e-02, -2.9800e-02, -7.4419e-03,  3.1814e-02,\n",
              "         -2.1617e-02,  4.0231e-03,  1.6897e-03, -2.7224e-02,  2.2252e-02,\n",
              "         -7.8276e-03, -5.8323e-03,  2.1604e-02,  2.0243e-02, -3.0634e-02,\n",
              "         -2.7636e-02,  2.7618e-02, -3.7075e-02,  2.7422e-02,  3.3624e-02,\n",
              "          2.0136e-02, -1.3579e-02, -2.2899e-02, -1.4406e-02,  2.4088e-02,\n",
              "         -9.2240e-03,  2.6004e-02,  4.2309e-03, -2.8261e-03, -3.2937e-02,\n",
              "          3.1131e-02,  2.3983e-02,  2.5834e-02, -2.6628e-02, -2.7433e-03,\n",
              "          1.2604e-02, -2.5830e-02,  7.5568e-03,  1.7652e-02,  2.4667e-02,\n",
              "         -1.8043e-02,  3.3015e-02,  2.3048e-02, -2.3558e-02,  3.4824e-02,\n",
              "         -2.8269e-02, -3.1550e-02, -2.7370e-02, -2.6664e-02,  7.4422e-03,\n",
              "         -2.6541e-03,  3.2709e-02, -1.3939e-02, -2.2142e-03,  3.4098e-02,\n",
              "         -2.3110e-02, -1.9643e-02,  2.7051e-02,  5.9541e-03,  1.0441e-02,\n",
              "         -3.7375e-02,  1.6852e-02, -1.5934e-03,  3.5533e-02,  1.0102e-02,\n",
              "          3.3332e-02,  1.0482e-02, -1.4666e-03, -9.0070e-04, -2.3667e-02,\n",
              "          9.0613e-03,  3.0280e-02, -2.8597e-02, -4.7025e-03, -3.0936e-02,\n",
              "          3.3503e-02,  7.9252e-03,  3.6596e-02,  2.0123e-02, -1.7245e-02,\n",
              "          3.3844e-02,  3.7385e-03,  3.1676e-02, -3.1413e-03,  3.0088e-02,\n",
              "          2.7965e-02,  9.2660e-03, -1.5061e-02,  2.0272e-02,  1.7319e-02,\n",
              "          1.1421e-02,  1.6356e-02, -2.4352e-02,  2.3212e-02, -1.2722e-02,\n",
              "         -9.1015e-03, -3.1929e-02, -1.6754e-03, -1.4019e-02,  3.1846e-02,\n",
              "         -9.5939e-03,  2.3547e-02,  2.9385e-02,  2.3610e-02, -2.9643e-02,\n",
              "         -3.4354e-02,  1.0636e-02,  3.2803e-02, -3.7144e-02,  1.3430e-02,\n",
              "          4.3989e-03,  1.3182e-02, -3.5367e-02, -1.0653e-02, -2.4406e-02,\n",
              "         -2.6916e-02,  1.7391e-02,  4.7808e-04,  2.8604e-02,  3.6015e-02,\n",
              "          1.8232e-02, -3.7585e-02,  3.0150e-02,  1.7946e-02,  7.0479e-04,\n",
              "          8.1254e-03, -1.2554e-03,  3.6734e-02,  1.0598e-02, -2.4759e-02,\n",
              "         -2.6136e-02, -2.6340e-02,  2.1876e-02,  1.2150e-02,  1.5493e-02,\n",
              "         -3.3803e-03,  2.9934e-02, -2.7638e-02,  2.2518e-02, -1.3672e-02,\n",
              "          1.8667e-02,  3.6630e-02,  3.4238e-02, -1.9072e-02, -2.3200e-02,\n",
              "          2.3868e-02, -4.1296e-03,  3.5641e-03, -1.7887e-02, -2.8080e-02,\n",
              "          2.5498e-02,  2.9298e-02,  2.2406e-02, -2.5950e-03,  2.8695e-02,\n",
              "          3.1996e-03,  3.5602e-02, -2.1324e-02, -1.2049e-02,  3.8762e-03,\n",
              "          1.8266e-03, -3.7611e-02,  3.0309e-02, -2.4930e-02,  2.9155e-02,\n",
              "         -3.2713e-02,  1.3671e-02, -1.9708e-02, -6.1535e-03, -1.0558e-02,\n",
              "         -1.5693e-02, -3.4235e-02, -3.5057e-02,  1.6365e-02,  2.7775e-02,\n",
              "         -3.3592e-02,  4.2016e-03,  9.7943e-03,  1.4701e-02, -2.3763e-02,\n",
              "         -2.8359e-02, -2.5611e-02, -9.1226e-03,  4.2522e-03,  3.1462e-02,\n",
              "         -2.0447e-02, -1.0213e-02, -1.2950e-02,  1.5270e-02, -1.2357e-02,\n",
              "         -2.4148e-02, -1.3724e-02, -3.7999e-03,  1.8555e-02, -1.9261e-02,\n",
              "         -2.4181e-02, -2.7522e-02, -2.5183e-02,  2.8741e-02,  2.1401e-02,\n",
              "         -3.3081e-02,  2.3929e-02,  1.3709e-02, -3.1708e-02,  7.9679e-04,\n",
              "          2.9082e-02,  3.7677e-02,  1.6617e-02, -3.7382e-02, -3.3329e-02,\n",
              "         -1.0952e-02, -6.0063e-03,  2.9784e-02, -1.5767e-02,  7.5520e-03,\n",
              "         -3.4725e-02, -1.1838e-02, -2.2909e-03, -1.1572e-02,  1.8612e-02,\n",
              "         -7.8427e-03, -1.4418e-02,  3.5646e-02,  2.8472e-02, -2.9033e-03,\n",
              "          3.7322e-02, -2.1974e-02, -1.8507e-03, -4.0348e-03, -1.5332e-02,\n",
              "         -2.6000e-02, -1.8626e-02, -1.7881e-02, -2.8806e-02, -4.8746e-03,\n",
              "          5.2117e-04, -3.5524e-02,  3.5276e-02,  1.9274e-02, -1.4597e-02,\n",
              "          3.7489e-02,  2.4153e-02, -5.2726e-03,  3.5320e-02,  1.3490e-02,\n",
              "         -2.2662e-02, -2.7852e-02, -1.0120e-02,  8.4886e-03, -3.0992e-02,\n",
              "         -2.0506e-02,  7.5290e-04, -1.5898e-02,  1.6921e-02,  2.0459e-03,\n",
              "         -1.7894e-02,  2.9129e-02, -5.4935e-03, -2.9863e-02,  1.9031e-03,\n",
              "         -3.3494e-02,  2.4294e-02, -3.7473e-02, -1.8028e-03,  2.4746e-02,\n",
              "          6.6127e-03,  2.1944e-02, -1.3487e-02,  2.9026e-02, -2.1637e-02,\n",
              "         -2.6116e-02, -1.6284e-05, -7.8429e-03, -2.5580e-02, -3.3264e-02,\n",
              "          2.3889e-02, -2.2489e-02,  3.3062e-02,  2.7630e-02, -2.4447e-02,\n",
              "          1.5234e-02,  6.6940e-03,  3.6024e-02,  2.6909e-02, -2.7675e-02,\n",
              "          5.4294e-03,  5.2006e-03,  2.9157e-02,  3.4057e-02,  6.1873e-04,\n",
              "          1.3365e-02, -3.5609e-02, -1.8890e-02,  1.7682e-02, -5.2733e-03,\n",
              "         -1.7077e-02, -2.4927e-02,  9.5001e-03,  1.3495e-02, -1.3850e-04,\n",
              "         -3.6141e-02,  1.7146e-02, -3.0712e-02, -1.6967e-03, -1.8722e-02,\n",
              "         -3.5153e-05,  1.5529e-02,  1.9934e-02, -2.4996e-02, -1.5817e-02,\n",
              "          2.5603e-02, -5.3140e-03, -1.9459e-02, -9.2029e-03, -2.6543e-02,\n",
              "          2.1321e-03,  2.9912e-02, -1.5243e-02, -7.7429e-03,  5.0050e-03,\n",
              "          3.0519e-02, -7.3945e-03, -3.1097e-03, -1.3865e-02,  9.9026e-03,\n",
              "         -3.2466e-02, -3.7627e-02, -1.3422e-02, -1.0427e-02,  2.1377e-03,\n",
              "         -6.0688e-03,  2.8623e-02, -9.8816e-03, -1.5493e-02, -3.3663e-02,\n",
              "         -1.2207e-02,  2.0714e-02,  7.5187e-03,  3.7671e-02,  3.1614e-04,\n",
              "         -2.4504e-02, -3.7076e-02,  2.8945e-02, -2.3758e-02, -1.3764e-02,\n",
              "          1.8083e-02,  2.4609e-02,  1.6331e-02,  1.9995e-02,  2.4576e-02,\n",
              "          3.0222e-02, -4.0500e-03, -3.3403e-03, -1.6479e-02, -2.8774e-03,\n",
              "          3.4440e-03, -6.8797e-03, -2.2185e-02,  3.1309e-02, -1.9372e-03,\n",
              "         -2.4458e-02,  2.3783e-02,  2.2976e-02,  3.0641e-02, -1.9648e-02,\n",
              "          2.1407e-03, -3.6643e-02, -2.4720e-02,  1.6860e-02, -2.2766e-02,\n",
              "          1.4337e-02,  2.0908e-02,  1.5782e-02, -5.3099e-03,  9.5026e-03,\n",
              "          3.2643e-02, -3.3406e-02, -1.7788e-02, -9.5856e-03, -1.9034e-03,\n",
              "          2.6211e-02,  9.1809e-03,  8.5669e-03,  6.3824e-03, -6.7577e-03,\n",
              "         -1.9724e-02, -1.6573e-02, -2.1311e-02,  2.8633e-02, -3.2395e-02,\n",
              "          1.2633e-02, -1.5238e-02, -3.7148e-02,  5.4258e-03,  2.6598e-02,\n",
              "         -3.4482e-02, -1.2404e-02,  1.3461e-02, -2.9659e-02,  1.5229e-02,\n",
              "         -3.2967e-02, -3.2873e-03, -1.5344e-03,  3.0648e-02, -1.8912e-03,\n",
              "          2.7574e-02,  2.2823e-02, -3.5906e-02, -5.1922e-03,  4.7518e-03,\n",
              "         -7.5980e-03, -2.3305e-02,  1.6202e-02,  1.0993e-02,  1.2283e-02,\n",
              "         -3.3819e-02, -5.9721e-03, -3.4620e-02,  2.0248e-02,  2.4543e-02],\n",
              "        requires_grad=True),\n",
              " Parameter containing:\n",
              " tensor([[-0.0402,  0.0283,  0.0263,  ...,  0.0190,  0.0062,  0.0207],\n",
              "         [-0.0305,  0.0241, -0.0027,  ..., -0.0121,  0.0265, -0.0412],\n",
              "         [ 0.0403,  0.0433, -0.0336,  ..., -0.0290,  0.0308,  0.0265],\n",
              "         ...,\n",
              "         [ 0.0118,  0.0286,  0.0321,  ...,  0.0309,  0.0178,  0.0350],\n",
              "         [ 0.0219, -0.0409, -0.0249,  ..., -0.0075,  0.0112, -0.0412],\n",
              "         [ 0.0391, -0.0251,  0.0126,  ..., -0.0289, -0.0140, -0.0266]],\n",
              "        requires_grad=True),\n",
              " Parameter containing:\n",
              " tensor([ 0.0034,  0.0428,  0.0163,  0.0247, -0.0372, -0.0156,  0.0023, -0.0048,\n",
              "         -0.0259, -0.0240,  0.0109, -0.0052,  0.0053,  0.0254, -0.0429,  0.0255,\n",
              "          0.0243, -0.0398, -0.0186,  0.0082,  0.0180,  0.0305, -0.0264, -0.0196,\n",
              "          0.0145, -0.0173,  0.0378, -0.0424,  0.0216,  0.0083,  0.0173, -0.0260,\n",
              "          0.0337,  0.0125, -0.0428, -0.0404,  0.0376, -0.0266, -0.0347,  0.0442,\n",
              "         -0.0190, -0.0107, -0.0166, -0.0098,  0.0203, -0.0052, -0.0018,  0.0077,\n",
              "          0.0134,  0.0328,  0.0032,  0.0238,  0.0382,  0.0102,  0.0097,  0.0187,\n",
              "         -0.0257,  0.0304,  0.0388,  0.0267,  0.0269, -0.0171,  0.0414, -0.0082,\n",
              "          0.0382,  0.0187,  0.0323,  0.0177, -0.0297,  0.0250,  0.0203,  0.0364,\n",
              "          0.0275,  0.0013, -0.0099, -0.0447, -0.0296,  0.0409, -0.0354, -0.0015,\n",
              "          0.0303, -0.0412,  0.0224,  0.0069, -0.0403,  0.0318,  0.0177,  0.0124,\n",
              "         -0.0088, -0.0355,  0.0077, -0.0172,  0.0275,  0.0071, -0.0163, -0.0335,\n",
              "         -0.0002, -0.0293,  0.0159, -0.0047,  0.0270, -0.0281, -0.0201,  0.0257,\n",
              "         -0.0154,  0.0325, -0.0231,  0.0191,  0.0312, -0.0139, -0.0380, -0.0226,\n",
              "         -0.0215, -0.0265,  0.0192,  0.0076,  0.0357,  0.0052, -0.0176, -0.0216,\n",
              "          0.0255,  0.0401,  0.0425,  0.0320, -0.0433, -0.0057,  0.0347, -0.0163,\n",
              "         -0.0105,  0.0146, -0.0071, -0.0056, -0.0186, -0.0376,  0.0144, -0.0251,\n",
              "         -0.0066,  0.0323, -0.0032, -0.0388, -0.0142, -0.0332,  0.0375,  0.0266,\n",
              "          0.0164, -0.0254, -0.0027,  0.0132, -0.0322,  0.0228, -0.0124, -0.0140,\n",
              "          0.0079,  0.0076, -0.0159,  0.0333, -0.0412,  0.0066, -0.0095, -0.0001,\n",
              "         -0.0306,  0.0094, -0.0402,  0.0313,  0.0328, -0.0134, -0.0336, -0.0189,\n",
              "         -0.0128, -0.0377, -0.0234,  0.0050, -0.0004,  0.0179,  0.0183,  0.0401,\n",
              "         -0.0184,  0.0123,  0.0027,  0.0301,  0.0408,  0.0343,  0.0263,  0.0422,\n",
              "          0.0231,  0.0026, -0.0023, -0.0075,  0.0187,  0.0014, -0.0090, -0.0163,\n",
              "         -0.0328, -0.0188,  0.0005, -0.0049, -0.0378, -0.0005, -0.0088, -0.0380,\n",
              "         -0.0235,  0.0329,  0.0130, -0.0275, -0.0137, -0.0309,  0.0368, -0.0369,\n",
              "         -0.0247, -0.0003,  0.0401,  0.0368, -0.0339, -0.0029, -0.0118,  0.0232,\n",
              "          0.0173, -0.0110,  0.0205,  0.0209, -0.0284, -0.0289,  0.0430,  0.0308,\n",
              "         -0.0020,  0.0035, -0.0219,  0.0291, -0.0140,  0.0424, -0.0437,  0.0114,\n",
              "          0.0133,  0.0420,  0.0039,  0.0360,  0.0274, -0.0182, -0.0238, -0.0114,\n",
              "          0.0217,  0.0340,  0.0350,  0.0208, -0.0355,  0.0403, -0.0026,  0.0167,\n",
              "         -0.0211,  0.0303, -0.0166, -0.0219, -0.0043,  0.0292,  0.0298, -0.0430,\n",
              "          0.0053,  0.0332, -0.0226,  0.0320,  0.0116, -0.0146,  0.0235, -0.0323,\n",
              "         -0.0343,  0.0267,  0.0183, -0.0350,  0.0055,  0.0326,  0.0191, -0.0109,\n",
              "         -0.0311,  0.0128, -0.0161,  0.0077, -0.0094,  0.0183,  0.0277, -0.0069,\n",
              "         -0.0343,  0.0024, -0.0315,  0.0268,  0.0201,  0.0077, -0.0255, -0.0027,\n",
              "         -0.0027, -0.0297,  0.0177, -0.0031,  0.0281, -0.0095, -0.0157, -0.0318,\n",
              "          0.0219, -0.0220,  0.0027, -0.0091,  0.0198,  0.0192, -0.0345, -0.0232,\n",
              "         -0.0309,  0.0443,  0.0163,  0.0328, -0.0377,  0.0066, -0.0173, -0.0147,\n",
              "          0.0334,  0.0035,  0.0246,  0.0019,  0.0070,  0.0273, -0.0067, -0.0068,\n",
              "         -0.0083, -0.0153,  0.0023, -0.0366, -0.0041,  0.0238,  0.0346,  0.0154,\n",
              "         -0.0263, -0.0352,  0.0359,  0.0183,  0.0060, -0.0109,  0.0295, -0.0166,\n",
              "         -0.0255, -0.0009,  0.0141,  0.0207, -0.0369,  0.0431, -0.0343, -0.0059,\n",
              "          0.0005, -0.0426, -0.0205,  0.0071,  0.0189,  0.0141,  0.0193, -0.0289,\n",
              "          0.0420, -0.0094,  0.0227, -0.0156,  0.0172, -0.0100, -0.0446,  0.0222,\n",
              "          0.0106, -0.0234, -0.0366, -0.0316, -0.0368, -0.0150,  0.0055, -0.0385,\n",
              "          0.0074, -0.0224,  0.0145, -0.0356,  0.0046, -0.0014,  0.0252, -0.0010,\n",
              "          0.0193, -0.0380,  0.0412, -0.0083, -0.0372, -0.0382,  0.0230,  0.0130,\n",
              "          0.0241, -0.0325, -0.0090,  0.0145,  0.0231,  0.0293, -0.0098, -0.0035,\n",
              "          0.0172,  0.0435,  0.0426, -0.0172,  0.0042, -0.0352, -0.0437,  0.0295,\n",
              "         -0.0196,  0.0346, -0.0368, -0.0039, -0.0299, -0.0319,  0.0338,  0.0254,\n",
              "          0.0175, -0.0219,  0.0353, -0.0334, -0.0119,  0.0362,  0.0377, -0.0135,\n",
              "         -0.0042,  0.0070,  0.0133,  0.0143, -0.0163,  0.0049,  0.0337,  0.0231,\n",
              "         -0.0323,  0.0243,  0.0404, -0.0274,  0.0171,  0.0389,  0.0006, -0.0441,\n",
              "         -0.0015, -0.0445,  0.0340,  0.0421,  0.0114, -0.0243, -0.0092, -0.0402,\n",
              "          0.0016,  0.0049,  0.0011, -0.0377,  0.0003,  0.0236, -0.0369,  0.0330,\n",
              "         -0.0005,  0.0161, -0.0268, -0.0152,  0.0424,  0.0336, -0.0438, -0.0328,\n",
              "         -0.0392, -0.0430,  0.0233, -0.0151,  0.0340, -0.0388,  0.0149, -0.0097,\n",
              "         -0.0181,  0.0034,  0.0190, -0.0280, -0.0114, -0.0167,  0.0292,  0.0191,\n",
              "          0.0217, -0.0078, -0.0175,  0.0302,  0.0136, -0.0443,  0.0172, -0.0002,\n",
              "          0.0037, -0.0260, -0.0222,  0.0424,  0.0394,  0.0116,  0.0409, -0.0421,\n",
              "          0.0146, -0.0284, -0.0217, -0.0313, -0.0356, -0.0395, -0.0080, -0.0419,\n",
              "          0.0215, -0.0424, -0.0353, -0.0124], requires_grad=True),\n",
              " Parameter containing:\n",
              " tensor([[ 0.0313, -0.0056,  0.0156,  ..., -0.0097,  0.0022, -0.0443],\n",
              "         [-0.0181,  0.0347, -0.0230,  ..., -0.0166,  0.0020, -0.0419],\n",
              "         [-0.0376,  0.0236, -0.0180,  ...,  0.0371, -0.0164,  0.0314],\n",
              "         ...,\n",
              "         [ 0.0395, -0.0152,  0.0260,  ...,  0.0249,  0.0231, -0.0141],\n",
              "         [ 0.0130, -0.0265, -0.0054,  ..., -0.0264, -0.0314,  0.0319],\n",
              "         [-0.0426, -0.0290, -0.0283,  ..., -0.0154, -0.0330,  0.0123]],\n",
              "        requires_grad=True),\n",
              " Parameter containing:\n",
              " tensor([ 0.0406, -0.0222, -0.0079,  0.0007,  0.0099, -0.0348, -0.0156, -0.0126,\n",
              "          0.0221,  0.0215], requires_grad=True)]"
            ]
          },
          "metadata": {},
          "execution_count": 35
        }
      ],
      "source": [
        "list(net.parameters())"
      ]
    },
    {
      "cell_type": "code",
      "execution_count": 36,
      "metadata": {
        "pycharm": {
          "name": "#%%\n"
        },
        "scrolled": true,
        "id": "wHWqnJOQIT0K",
        "outputId": "31212a6b-9445-47ed-b811-fe8a29193431",
        "colab": {
          "base_uri": "https://localhost:8080/"
        }
      },
      "outputs": [
        {
          "output_type": "execute_result",
          "data": {
            "text/plain": [
              "OrderedDict([('linear1.weight',\n",
              "              tensor([[-0.0046, -0.0147, -0.0108,  ..., -0.0097, -0.0142, -0.0183],\n",
              "                      [-0.0269,  0.0245,  0.0160,  ...,  0.0221,  0.0033, -0.0027],\n",
              "                      [-0.0318, -0.0120, -0.0059,  ..., -0.0002, -0.0039,  0.0289],\n",
              "                      ...,\n",
              "                      [ 0.0335, -0.0154, -0.0097,  ..., -0.0269,  0.0093, -0.0069],\n",
              "                      [ 0.0231, -0.0092,  0.0288,  ...,  0.0022,  0.0373,  0.0132],\n",
              "                      [ 0.0060, -0.0098, -0.0267,  ..., -0.0337,  0.0169, -0.0013]])),\n",
              "             ('linear1.bias',\n",
              "              tensor([-2.1088e-02,  1.0055e-02, -7.7552e-03, -1.9122e-02, -3.3471e-02,\n",
              "                      -2.0890e-02,  1.7957e-02,  2.6099e-02,  3.0136e-02, -3.0112e-02,\n",
              "                       2.7849e-02, -1.2145e-02, -2.8552e-02,  1.0605e-02, -7.8391e-03,\n",
              "                      -2.5345e-02,  6.5207e-03,  3.5297e-02,  1.6740e-02,  6.9777e-03,\n",
              "                      -3.3125e-02,  1.8327e-02,  1.6675e-02,  1.7545e-02,  7.4183e-03,\n",
              "                      -3.3241e-02,  6.3233e-03, -1.6696e-02, -1.5523e-02, -2.8453e-02,\n",
              "                       6.5478e-03,  2.4674e-02, -3.0306e-02, -1.9385e-02,  1.4468e-02,\n",
              "                      -2.1729e-03, -8.4098e-03, -3.4562e-02, -3.6783e-02,  2.9103e-02,\n",
              "                      -1.9729e-02, -2.3040e-02,  2.1877e-02,  6.0152e-03,  1.1391e-02,\n",
              "                      -6.1097e-03,  3.3665e-02, -8.8738e-03,  2.9855e-02, -3.3741e-02,\n",
              "                      -1.2577e-02,  3.6876e-02,  8.4248e-03,  2.4642e-02,  1.0302e-02,\n",
              "                      -6.1079e-05,  7.1781e-03, -8.0475e-03,  3.1832e-02,  2.9259e-02,\n",
              "                      -1.5856e-03,  1.4783e-02,  1.7176e-02,  1.3105e-02, -6.7287e-03,\n",
              "                       7.3206e-03,  2.7062e-02, -1.4028e-02,  2.2943e-02,  2.3746e-02,\n",
              "                      -3.6304e-02,  3.6079e-02, -2.3212e-02, -3.6907e-02,  2.5203e-02,\n",
              "                      -1.2118e-02,  2.9581e-02,  2.1207e-02, -1.2558e-02,  1.9321e-02,\n",
              "                      -8.6805e-03,  2.7435e-02, -2.9800e-02, -7.4419e-03,  3.1814e-02,\n",
              "                      -2.1617e-02,  4.0231e-03,  1.6897e-03, -2.7224e-02,  2.2252e-02,\n",
              "                      -7.8276e-03, -5.8323e-03,  2.1604e-02,  2.0243e-02, -3.0634e-02,\n",
              "                      -2.7636e-02,  2.7618e-02, -3.7075e-02,  2.7422e-02,  3.3624e-02,\n",
              "                       2.0136e-02, -1.3579e-02, -2.2899e-02, -1.4406e-02,  2.4088e-02,\n",
              "                      -9.2240e-03,  2.6004e-02,  4.2309e-03, -2.8261e-03, -3.2937e-02,\n",
              "                       3.1131e-02,  2.3983e-02,  2.5834e-02, -2.6628e-02, -2.7433e-03,\n",
              "                       1.2604e-02, -2.5830e-02,  7.5568e-03,  1.7652e-02,  2.4667e-02,\n",
              "                      -1.8043e-02,  3.3015e-02,  2.3048e-02, -2.3558e-02,  3.4824e-02,\n",
              "                      -2.8269e-02, -3.1550e-02, -2.7370e-02, -2.6664e-02,  7.4422e-03,\n",
              "                      -2.6541e-03,  3.2709e-02, -1.3939e-02, -2.2142e-03,  3.4098e-02,\n",
              "                      -2.3110e-02, -1.9643e-02,  2.7051e-02,  5.9541e-03,  1.0441e-02,\n",
              "                      -3.7375e-02,  1.6852e-02, -1.5934e-03,  3.5533e-02,  1.0102e-02,\n",
              "                       3.3332e-02,  1.0482e-02, -1.4666e-03, -9.0070e-04, -2.3667e-02,\n",
              "                       9.0613e-03,  3.0280e-02, -2.8597e-02, -4.7025e-03, -3.0936e-02,\n",
              "                       3.3503e-02,  7.9252e-03,  3.6596e-02,  2.0123e-02, -1.7245e-02,\n",
              "                       3.3844e-02,  3.7385e-03,  3.1676e-02, -3.1413e-03,  3.0088e-02,\n",
              "                       2.7965e-02,  9.2660e-03, -1.5061e-02,  2.0272e-02,  1.7319e-02,\n",
              "                       1.1421e-02,  1.6356e-02, -2.4352e-02,  2.3212e-02, -1.2722e-02,\n",
              "                      -9.1015e-03, -3.1929e-02, -1.6754e-03, -1.4019e-02,  3.1846e-02,\n",
              "                      -9.5939e-03,  2.3547e-02,  2.9385e-02,  2.3610e-02, -2.9643e-02,\n",
              "                      -3.4354e-02,  1.0636e-02,  3.2803e-02, -3.7144e-02,  1.3430e-02,\n",
              "                       4.3989e-03,  1.3182e-02, -3.5367e-02, -1.0653e-02, -2.4406e-02,\n",
              "                      -2.6916e-02,  1.7391e-02,  4.7808e-04,  2.8604e-02,  3.6015e-02,\n",
              "                       1.8232e-02, -3.7585e-02,  3.0150e-02,  1.7946e-02,  7.0479e-04,\n",
              "                       8.1254e-03, -1.2554e-03,  3.6734e-02,  1.0598e-02, -2.4759e-02,\n",
              "                      -2.6136e-02, -2.6340e-02,  2.1876e-02,  1.2150e-02,  1.5493e-02,\n",
              "                      -3.3803e-03,  2.9934e-02, -2.7638e-02,  2.2518e-02, -1.3672e-02,\n",
              "                       1.8667e-02,  3.6630e-02,  3.4238e-02, -1.9072e-02, -2.3200e-02,\n",
              "                       2.3868e-02, -4.1296e-03,  3.5641e-03, -1.7887e-02, -2.8080e-02,\n",
              "                       2.5498e-02,  2.9298e-02,  2.2406e-02, -2.5950e-03,  2.8695e-02,\n",
              "                       3.1996e-03,  3.5602e-02, -2.1324e-02, -1.2049e-02,  3.8762e-03,\n",
              "                       1.8266e-03, -3.7611e-02,  3.0309e-02, -2.4930e-02,  2.9155e-02,\n",
              "                      -3.2713e-02,  1.3671e-02, -1.9708e-02, -6.1535e-03, -1.0558e-02,\n",
              "                      -1.5693e-02, -3.4235e-02, -3.5057e-02,  1.6365e-02,  2.7775e-02,\n",
              "                      -3.3592e-02,  4.2016e-03,  9.7943e-03,  1.4701e-02, -2.3763e-02,\n",
              "                      -2.8359e-02, -2.5611e-02, -9.1226e-03,  4.2522e-03,  3.1462e-02,\n",
              "                      -2.0447e-02, -1.0213e-02, -1.2950e-02,  1.5270e-02, -1.2357e-02,\n",
              "                      -2.4148e-02, -1.3724e-02, -3.7999e-03,  1.8555e-02, -1.9261e-02,\n",
              "                      -2.4181e-02, -2.7522e-02, -2.5183e-02,  2.8741e-02,  2.1401e-02,\n",
              "                      -3.3081e-02,  2.3929e-02,  1.3709e-02, -3.1708e-02,  7.9679e-04,\n",
              "                       2.9082e-02,  3.7677e-02,  1.6617e-02, -3.7382e-02, -3.3329e-02,\n",
              "                      -1.0952e-02, -6.0063e-03,  2.9784e-02, -1.5767e-02,  7.5520e-03,\n",
              "                      -3.4725e-02, -1.1838e-02, -2.2909e-03, -1.1572e-02,  1.8612e-02,\n",
              "                      -7.8427e-03, -1.4418e-02,  3.5646e-02,  2.8472e-02, -2.9033e-03,\n",
              "                       3.7322e-02, -2.1974e-02, -1.8507e-03, -4.0348e-03, -1.5332e-02,\n",
              "                      -2.6000e-02, -1.8626e-02, -1.7881e-02, -2.8806e-02, -4.8746e-03,\n",
              "                       5.2117e-04, -3.5524e-02,  3.5276e-02,  1.9274e-02, -1.4597e-02,\n",
              "                       3.7489e-02,  2.4153e-02, -5.2726e-03,  3.5320e-02,  1.3490e-02,\n",
              "                      -2.2662e-02, -2.7852e-02, -1.0120e-02,  8.4886e-03, -3.0992e-02,\n",
              "                      -2.0506e-02,  7.5290e-04, -1.5898e-02,  1.6921e-02,  2.0459e-03,\n",
              "                      -1.7894e-02,  2.9129e-02, -5.4935e-03, -2.9863e-02,  1.9031e-03,\n",
              "                      -3.3494e-02,  2.4294e-02, -3.7473e-02, -1.8028e-03,  2.4746e-02,\n",
              "                       6.6127e-03,  2.1944e-02, -1.3487e-02,  2.9026e-02, -2.1637e-02,\n",
              "                      -2.6116e-02, -1.6284e-05, -7.8429e-03, -2.5580e-02, -3.3264e-02,\n",
              "                       2.3889e-02, -2.2489e-02,  3.3062e-02,  2.7630e-02, -2.4447e-02,\n",
              "                       1.5234e-02,  6.6940e-03,  3.6024e-02,  2.6909e-02, -2.7675e-02,\n",
              "                       5.4294e-03,  5.2006e-03,  2.9157e-02,  3.4057e-02,  6.1873e-04,\n",
              "                       1.3365e-02, -3.5609e-02, -1.8890e-02,  1.7682e-02, -5.2733e-03,\n",
              "                      -1.7077e-02, -2.4927e-02,  9.5001e-03,  1.3495e-02, -1.3850e-04,\n",
              "                      -3.6141e-02,  1.7146e-02, -3.0712e-02, -1.6967e-03, -1.8722e-02,\n",
              "                      -3.5153e-05,  1.5529e-02,  1.9934e-02, -2.4996e-02, -1.5817e-02,\n",
              "                       2.5603e-02, -5.3140e-03, -1.9459e-02, -9.2029e-03, -2.6543e-02,\n",
              "                       2.1321e-03,  2.9912e-02, -1.5243e-02, -7.7429e-03,  5.0050e-03,\n",
              "                       3.0519e-02, -7.3945e-03, -3.1097e-03, -1.3865e-02,  9.9026e-03,\n",
              "                      -3.2466e-02, -3.7627e-02, -1.3422e-02, -1.0427e-02,  2.1377e-03,\n",
              "                      -6.0688e-03,  2.8623e-02, -9.8816e-03, -1.5493e-02, -3.3663e-02,\n",
              "                      -1.2207e-02,  2.0714e-02,  7.5187e-03,  3.7671e-02,  3.1614e-04,\n",
              "                      -2.4504e-02, -3.7076e-02,  2.8945e-02, -2.3758e-02, -1.3764e-02,\n",
              "                       1.8083e-02,  2.4609e-02,  1.6331e-02,  1.9995e-02,  2.4576e-02,\n",
              "                       3.0222e-02, -4.0500e-03, -3.3403e-03, -1.6479e-02, -2.8774e-03,\n",
              "                       3.4440e-03, -6.8797e-03, -2.2185e-02,  3.1309e-02, -1.9372e-03,\n",
              "                      -2.4458e-02,  2.3783e-02,  2.2976e-02,  3.0641e-02, -1.9648e-02,\n",
              "                       2.1407e-03, -3.6643e-02, -2.4720e-02,  1.6860e-02, -2.2766e-02,\n",
              "                       1.4337e-02,  2.0908e-02,  1.5782e-02, -5.3099e-03,  9.5026e-03,\n",
              "                       3.2643e-02, -3.3406e-02, -1.7788e-02, -9.5856e-03, -1.9034e-03,\n",
              "                       2.6211e-02,  9.1809e-03,  8.5669e-03,  6.3824e-03, -6.7577e-03,\n",
              "                      -1.9724e-02, -1.6573e-02, -2.1311e-02,  2.8633e-02, -3.2395e-02,\n",
              "                       1.2633e-02, -1.5238e-02, -3.7148e-02,  5.4258e-03,  2.6598e-02,\n",
              "                      -3.4482e-02, -1.2404e-02,  1.3461e-02, -2.9659e-02,  1.5229e-02,\n",
              "                      -3.2967e-02, -3.2873e-03, -1.5344e-03,  3.0648e-02, -1.8912e-03,\n",
              "                       2.7574e-02,  2.2823e-02, -3.5906e-02, -5.1922e-03,  4.7518e-03,\n",
              "                      -7.5980e-03, -2.3305e-02,  1.6202e-02,  1.0993e-02,  1.2283e-02,\n",
              "                      -3.3819e-02, -5.9721e-03, -3.4620e-02,  2.0248e-02,  2.4543e-02])),\n",
              "             ('linear2.weight',\n",
              "              tensor([[-0.0402,  0.0283,  0.0263,  ...,  0.0190,  0.0062,  0.0207],\n",
              "                      [-0.0305,  0.0241, -0.0027,  ..., -0.0121,  0.0265, -0.0412],\n",
              "                      [ 0.0403,  0.0433, -0.0336,  ..., -0.0290,  0.0308,  0.0265],\n",
              "                      ...,\n",
              "                      [ 0.0118,  0.0286,  0.0321,  ...,  0.0309,  0.0178,  0.0350],\n",
              "                      [ 0.0219, -0.0409, -0.0249,  ..., -0.0075,  0.0112, -0.0412],\n",
              "                      [ 0.0391, -0.0251,  0.0126,  ..., -0.0289, -0.0140, -0.0266]])),\n",
              "             ('linear2.bias',\n",
              "              tensor([ 0.0034,  0.0428,  0.0163,  0.0247, -0.0372, -0.0156,  0.0023, -0.0048,\n",
              "                      -0.0259, -0.0240,  0.0109, -0.0052,  0.0053,  0.0254, -0.0429,  0.0255,\n",
              "                       0.0243, -0.0398, -0.0186,  0.0082,  0.0180,  0.0305, -0.0264, -0.0196,\n",
              "                       0.0145, -0.0173,  0.0378, -0.0424,  0.0216,  0.0083,  0.0173, -0.0260,\n",
              "                       0.0337,  0.0125, -0.0428, -0.0404,  0.0376, -0.0266, -0.0347,  0.0442,\n",
              "                      -0.0190, -0.0107, -0.0166, -0.0098,  0.0203, -0.0052, -0.0018,  0.0077,\n",
              "                       0.0134,  0.0328,  0.0032,  0.0238,  0.0382,  0.0102,  0.0097,  0.0187,\n",
              "                      -0.0257,  0.0304,  0.0388,  0.0267,  0.0269, -0.0171,  0.0414, -0.0082,\n",
              "                       0.0382,  0.0187,  0.0323,  0.0177, -0.0297,  0.0250,  0.0203,  0.0364,\n",
              "                       0.0275,  0.0013, -0.0099, -0.0447, -0.0296,  0.0409, -0.0354, -0.0015,\n",
              "                       0.0303, -0.0412,  0.0224,  0.0069, -0.0403,  0.0318,  0.0177,  0.0124,\n",
              "                      -0.0088, -0.0355,  0.0077, -0.0172,  0.0275,  0.0071, -0.0163, -0.0335,\n",
              "                      -0.0002, -0.0293,  0.0159, -0.0047,  0.0270, -0.0281, -0.0201,  0.0257,\n",
              "                      -0.0154,  0.0325, -0.0231,  0.0191,  0.0312, -0.0139, -0.0380, -0.0226,\n",
              "                      -0.0215, -0.0265,  0.0192,  0.0076,  0.0357,  0.0052, -0.0176, -0.0216,\n",
              "                       0.0255,  0.0401,  0.0425,  0.0320, -0.0433, -0.0057,  0.0347, -0.0163,\n",
              "                      -0.0105,  0.0146, -0.0071, -0.0056, -0.0186, -0.0376,  0.0144, -0.0251,\n",
              "                      -0.0066,  0.0323, -0.0032, -0.0388, -0.0142, -0.0332,  0.0375,  0.0266,\n",
              "                       0.0164, -0.0254, -0.0027,  0.0132, -0.0322,  0.0228, -0.0124, -0.0140,\n",
              "                       0.0079,  0.0076, -0.0159,  0.0333, -0.0412,  0.0066, -0.0095, -0.0001,\n",
              "                      -0.0306,  0.0094, -0.0402,  0.0313,  0.0328, -0.0134, -0.0336, -0.0189,\n",
              "                      -0.0128, -0.0377, -0.0234,  0.0050, -0.0004,  0.0179,  0.0183,  0.0401,\n",
              "                      -0.0184,  0.0123,  0.0027,  0.0301,  0.0408,  0.0343,  0.0263,  0.0422,\n",
              "                       0.0231,  0.0026, -0.0023, -0.0075,  0.0187,  0.0014, -0.0090, -0.0163,\n",
              "                      -0.0328, -0.0188,  0.0005, -0.0049, -0.0378, -0.0005, -0.0088, -0.0380,\n",
              "                      -0.0235,  0.0329,  0.0130, -0.0275, -0.0137, -0.0309,  0.0368, -0.0369,\n",
              "                      -0.0247, -0.0003,  0.0401,  0.0368, -0.0339, -0.0029, -0.0118,  0.0232,\n",
              "                       0.0173, -0.0110,  0.0205,  0.0209, -0.0284, -0.0289,  0.0430,  0.0308,\n",
              "                      -0.0020,  0.0035, -0.0219,  0.0291, -0.0140,  0.0424, -0.0437,  0.0114,\n",
              "                       0.0133,  0.0420,  0.0039,  0.0360,  0.0274, -0.0182, -0.0238, -0.0114,\n",
              "                       0.0217,  0.0340,  0.0350,  0.0208, -0.0355,  0.0403, -0.0026,  0.0167,\n",
              "                      -0.0211,  0.0303, -0.0166, -0.0219, -0.0043,  0.0292,  0.0298, -0.0430,\n",
              "                       0.0053,  0.0332, -0.0226,  0.0320,  0.0116, -0.0146,  0.0235, -0.0323,\n",
              "                      -0.0343,  0.0267,  0.0183, -0.0350,  0.0055,  0.0326,  0.0191, -0.0109,\n",
              "                      -0.0311,  0.0128, -0.0161,  0.0077, -0.0094,  0.0183,  0.0277, -0.0069,\n",
              "                      -0.0343,  0.0024, -0.0315,  0.0268,  0.0201,  0.0077, -0.0255, -0.0027,\n",
              "                      -0.0027, -0.0297,  0.0177, -0.0031,  0.0281, -0.0095, -0.0157, -0.0318,\n",
              "                       0.0219, -0.0220,  0.0027, -0.0091,  0.0198,  0.0192, -0.0345, -0.0232,\n",
              "                      -0.0309,  0.0443,  0.0163,  0.0328, -0.0377,  0.0066, -0.0173, -0.0147,\n",
              "                       0.0334,  0.0035,  0.0246,  0.0019,  0.0070,  0.0273, -0.0067, -0.0068,\n",
              "                      -0.0083, -0.0153,  0.0023, -0.0366, -0.0041,  0.0238,  0.0346,  0.0154,\n",
              "                      -0.0263, -0.0352,  0.0359,  0.0183,  0.0060, -0.0109,  0.0295, -0.0166,\n",
              "                      -0.0255, -0.0009,  0.0141,  0.0207, -0.0369,  0.0431, -0.0343, -0.0059,\n",
              "                       0.0005, -0.0426, -0.0205,  0.0071,  0.0189,  0.0141,  0.0193, -0.0289,\n",
              "                       0.0420, -0.0094,  0.0227, -0.0156,  0.0172, -0.0100, -0.0446,  0.0222,\n",
              "                       0.0106, -0.0234, -0.0366, -0.0316, -0.0368, -0.0150,  0.0055, -0.0385,\n",
              "                       0.0074, -0.0224,  0.0145, -0.0356,  0.0046, -0.0014,  0.0252, -0.0010,\n",
              "                       0.0193, -0.0380,  0.0412, -0.0083, -0.0372, -0.0382,  0.0230,  0.0130,\n",
              "                       0.0241, -0.0325, -0.0090,  0.0145,  0.0231,  0.0293, -0.0098, -0.0035,\n",
              "                       0.0172,  0.0435,  0.0426, -0.0172,  0.0042, -0.0352, -0.0437,  0.0295,\n",
              "                      -0.0196,  0.0346, -0.0368, -0.0039, -0.0299, -0.0319,  0.0338,  0.0254,\n",
              "                       0.0175, -0.0219,  0.0353, -0.0334, -0.0119,  0.0362,  0.0377, -0.0135,\n",
              "                      -0.0042,  0.0070,  0.0133,  0.0143, -0.0163,  0.0049,  0.0337,  0.0231,\n",
              "                      -0.0323,  0.0243,  0.0404, -0.0274,  0.0171,  0.0389,  0.0006, -0.0441,\n",
              "                      -0.0015, -0.0445,  0.0340,  0.0421,  0.0114, -0.0243, -0.0092, -0.0402,\n",
              "                       0.0016,  0.0049,  0.0011, -0.0377,  0.0003,  0.0236, -0.0369,  0.0330,\n",
              "                      -0.0005,  0.0161, -0.0268, -0.0152,  0.0424,  0.0336, -0.0438, -0.0328,\n",
              "                      -0.0392, -0.0430,  0.0233, -0.0151,  0.0340, -0.0388,  0.0149, -0.0097,\n",
              "                      -0.0181,  0.0034,  0.0190, -0.0280, -0.0114, -0.0167,  0.0292,  0.0191,\n",
              "                       0.0217, -0.0078, -0.0175,  0.0302,  0.0136, -0.0443,  0.0172, -0.0002,\n",
              "                       0.0037, -0.0260, -0.0222,  0.0424,  0.0394,  0.0116,  0.0409, -0.0421,\n",
              "                       0.0146, -0.0284, -0.0217, -0.0313, -0.0356, -0.0395, -0.0080, -0.0419,\n",
              "                       0.0215, -0.0424, -0.0353, -0.0124])),\n",
              "             ('linear3.weight',\n",
              "              tensor([[ 0.0313, -0.0056,  0.0156,  ..., -0.0097,  0.0022, -0.0443],\n",
              "                      [-0.0181,  0.0347, -0.0230,  ..., -0.0166,  0.0020, -0.0419],\n",
              "                      [-0.0376,  0.0236, -0.0180,  ...,  0.0371, -0.0164,  0.0314],\n",
              "                      ...,\n",
              "                      [ 0.0395, -0.0152,  0.0260,  ...,  0.0249,  0.0231, -0.0141],\n",
              "                      [ 0.0130, -0.0265, -0.0054,  ..., -0.0264, -0.0314,  0.0319],\n",
              "                      [-0.0426, -0.0290, -0.0283,  ..., -0.0154, -0.0330,  0.0123]])),\n",
              "             ('linear3.bias',\n",
              "              tensor([ 0.0406, -0.0222, -0.0079,  0.0007,  0.0099, -0.0348, -0.0156, -0.0126,\n",
              "                       0.0221,  0.0215]))])"
            ]
          },
          "metadata": {},
          "execution_count": 36
        }
      ],
      "source": [
        "net.state_dict()"
      ]
    },
    {
      "cell_type": "code",
      "execution_count": 37,
      "metadata": {
        "id": "gBBufCbQIT0L"
      },
      "outputs": [],
      "source": [
        "torch.save(net.state_dict(), 'model.pt')"
      ]
    },
    {
      "cell_type": "code",
      "execution_count": 38,
      "metadata": {
        "scrolled": true,
        "id": "ERpxFN92IT0L",
        "outputId": "67b39971-4b3c-497d-e7ca-287405e8631a",
        "colab": {
          "base_uri": "https://localhost:8080/"
        }
      },
      "outputs": [
        {
          "output_type": "stream",
          "name": "stderr",
          "text": [
            "<ipython-input-38-8d07404d15ea>:1: FutureWarning: You are using `torch.load` with `weights_only=False` (the current default value), which uses the default pickle module implicitly. It is possible to construct malicious pickle data which will execute arbitrary code during unpickling (See https://github.com/pytorch/pytorch/blob/main/SECURITY.md#untrusted-models for more details). In a future release, the default value for `weights_only` will be flipped to `True`. This limits the functions that could be executed during unpickling. Arbitrary objects will no longer be allowed to be loaded via this mode unless they are explicitly allowlisted by the user via `torch.serialization.add_safe_globals`. We recommend you start setting `weights_only=True` for any use case where you don't have full control of the loaded file. Please open an issue on GitHub for any issues related to this experimental feature.\n",
            "  torch.load('model.pt')\n"
          ]
        },
        {
          "output_type": "execute_result",
          "data": {
            "text/plain": [
              "OrderedDict([('linear1.weight',\n",
              "              tensor([[-0.0046, -0.0147, -0.0108,  ..., -0.0097, -0.0142, -0.0183],\n",
              "                      [-0.0269,  0.0245,  0.0160,  ...,  0.0221,  0.0033, -0.0027],\n",
              "                      [-0.0318, -0.0120, -0.0059,  ..., -0.0002, -0.0039,  0.0289],\n",
              "                      ...,\n",
              "                      [ 0.0335, -0.0154, -0.0097,  ..., -0.0269,  0.0093, -0.0069],\n",
              "                      [ 0.0231, -0.0092,  0.0288,  ...,  0.0022,  0.0373,  0.0132],\n",
              "                      [ 0.0060, -0.0098, -0.0267,  ..., -0.0337,  0.0169, -0.0013]])),\n",
              "             ('linear1.bias',\n",
              "              tensor([-2.1088e-02,  1.0055e-02, -7.7552e-03, -1.9122e-02, -3.3471e-02,\n",
              "                      -2.0890e-02,  1.7957e-02,  2.6099e-02,  3.0136e-02, -3.0112e-02,\n",
              "                       2.7849e-02, -1.2145e-02, -2.8552e-02,  1.0605e-02, -7.8391e-03,\n",
              "                      -2.5345e-02,  6.5207e-03,  3.5297e-02,  1.6740e-02,  6.9777e-03,\n",
              "                      -3.3125e-02,  1.8327e-02,  1.6675e-02,  1.7545e-02,  7.4183e-03,\n",
              "                      -3.3241e-02,  6.3233e-03, -1.6696e-02, -1.5523e-02, -2.8453e-02,\n",
              "                       6.5478e-03,  2.4674e-02, -3.0306e-02, -1.9385e-02,  1.4468e-02,\n",
              "                      -2.1729e-03, -8.4098e-03, -3.4562e-02, -3.6783e-02,  2.9103e-02,\n",
              "                      -1.9729e-02, -2.3040e-02,  2.1877e-02,  6.0152e-03,  1.1391e-02,\n",
              "                      -6.1097e-03,  3.3665e-02, -8.8738e-03,  2.9855e-02, -3.3741e-02,\n",
              "                      -1.2577e-02,  3.6876e-02,  8.4248e-03,  2.4642e-02,  1.0302e-02,\n",
              "                      -6.1079e-05,  7.1781e-03, -8.0475e-03,  3.1832e-02,  2.9259e-02,\n",
              "                      -1.5856e-03,  1.4783e-02,  1.7176e-02,  1.3105e-02, -6.7287e-03,\n",
              "                       7.3206e-03,  2.7062e-02, -1.4028e-02,  2.2943e-02,  2.3746e-02,\n",
              "                      -3.6304e-02,  3.6079e-02, -2.3212e-02, -3.6907e-02,  2.5203e-02,\n",
              "                      -1.2118e-02,  2.9581e-02,  2.1207e-02, -1.2558e-02,  1.9321e-02,\n",
              "                      -8.6805e-03,  2.7435e-02, -2.9800e-02, -7.4419e-03,  3.1814e-02,\n",
              "                      -2.1617e-02,  4.0231e-03,  1.6897e-03, -2.7224e-02,  2.2252e-02,\n",
              "                      -7.8276e-03, -5.8323e-03,  2.1604e-02,  2.0243e-02, -3.0634e-02,\n",
              "                      -2.7636e-02,  2.7618e-02, -3.7075e-02,  2.7422e-02,  3.3624e-02,\n",
              "                       2.0136e-02, -1.3579e-02, -2.2899e-02, -1.4406e-02,  2.4088e-02,\n",
              "                      -9.2240e-03,  2.6004e-02,  4.2309e-03, -2.8261e-03, -3.2937e-02,\n",
              "                       3.1131e-02,  2.3983e-02,  2.5834e-02, -2.6628e-02, -2.7433e-03,\n",
              "                       1.2604e-02, -2.5830e-02,  7.5568e-03,  1.7652e-02,  2.4667e-02,\n",
              "                      -1.8043e-02,  3.3015e-02,  2.3048e-02, -2.3558e-02,  3.4824e-02,\n",
              "                      -2.8269e-02, -3.1550e-02, -2.7370e-02, -2.6664e-02,  7.4422e-03,\n",
              "                      -2.6541e-03,  3.2709e-02, -1.3939e-02, -2.2142e-03,  3.4098e-02,\n",
              "                      -2.3110e-02, -1.9643e-02,  2.7051e-02,  5.9541e-03,  1.0441e-02,\n",
              "                      -3.7375e-02,  1.6852e-02, -1.5934e-03,  3.5533e-02,  1.0102e-02,\n",
              "                       3.3332e-02,  1.0482e-02, -1.4666e-03, -9.0070e-04, -2.3667e-02,\n",
              "                       9.0613e-03,  3.0280e-02, -2.8597e-02, -4.7025e-03, -3.0936e-02,\n",
              "                       3.3503e-02,  7.9252e-03,  3.6596e-02,  2.0123e-02, -1.7245e-02,\n",
              "                       3.3844e-02,  3.7385e-03,  3.1676e-02, -3.1413e-03,  3.0088e-02,\n",
              "                       2.7965e-02,  9.2660e-03, -1.5061e-02,  2.0272e-02,  1.7319e-02,\n",
              "                       1.1421e-02,  1.6356e-02, -2.4352e-02,  2.3212e-02, -1.2722e-02,\n",
              "                      -9.1015e-03, -3.1929e-02, -1.6754e-03, -1.4019e-02,  3.1846e-02,\n",
              "                      -9.5939e-03,  2.3547e-02,  2.9385e-02,  2.3610e-02, -2.9643e-02,\n",
              "                      -3.4354e-02,  1.0636e-02,  3.2803e-02, -3.7144e-02,  1.3430e-02,\n",
              "                       4.3989e-03,  1.3182e-02, -3.5367e-02, -1.0653e-02, -2.4406e-02,\n",
              "                      -2.6916e-02,  1.7391e-02,  4.7808e-04,  2.8604e-02,  3.6015e-02,\n",
              "                       1.8232e-02, -3.7585e-02,  3.0150e-02,  1.7946e-02,  7.0479e-04,\n",
              "                       8.1254e-03, -1.2554e-03,  3.6734e-02,  1.0598e-02, -2.4759e-02,\n",
              "                      -2.6136e-02, -2.6340e-02,  2.1876e-02,  1.2150e-02,  1.5493e-02,\n",
              "                      -3.3803e-03,  2.9934e-02, -2.7638e-02,  2.2518e-02, -1.3672e-02,\n",
              "                       1.8667e-02,  3.6630e-02,  3.4238e-02, -1.9072e-02, -2.3200e-02,\n",
              "                       2.3868e-02, -4.1296e-03,  3.5641e-03, -1.7887e-02, -2.8080e-02,\n",
              "                       2.5498e-02,  2.9298e-02,  2.2406e-02, -2.5950e-03,  2.8695e-02,\n",
              "                       3.1996e-03,  3.5602e-02, -2.1324e-02, -1.2049e-02,  3.8762e-03,\n",
              "                       1.8266e-03, -3.7611e-02,  3.0309e-02, -2.4930e-02,  2.9155e-02,\n",
              "                      -3.2713e-02,  1.3671e-02, -1.9708e-02, -6.1535e-03, -1.0558e-02,\n",
              "                      -1.5693e-02, -3.4235e-02, -3.5057e-02,  1.6365e-02,  2.7775e-02,\n",
              "                      -3.3592e-02,  4.2016e-03,  9.7943e-03,  1.4701e-02, -2.3763e-02,\n",
              "                      -2.8359e-02, -2.5611e-02, -9.1226e-03,  4.2522e-03,  3.1462e-02,\n",
              "                      -2.0447e-02, -1.0213e-02, -1.2950e-02,  1.5270e-02, -1.2357e-02,\n",
              "                      -2.4148e-02, -1.3724e-02, -3.7999e-03,  1.8555e-02, -1.9261e-02,\n",
              "                      -2.4181e-02, -2.7522e-02, -2.5183e-02,  2.8741e-02,  2.1401e-02,\n",
              "                      -3.3081e-02,  2.3929e-02,  1.3709e-02, -3.1708e-02,  7.9679e-04,\n",
              "                       2.9082e-02,  3.7677e-02,  1.6617e-02, -3.7382e-02, -3.3329e-02,\n",
              "                      -1.0952e-02, -6.0063e-03,  2.9784e-02, -1.5767e-02,  7.5520e-03,\n",
              "                      -3.4725e-02, -1.1838e-02, -2.2909e-03, -1.1572e-02,  1.8612e-02,\n",
              "                      -7.8427e-03, -1.4418e-02,  3.5646e-02,  2.8472e-02, -2.9033e-03,\n",
              "                       3.7322e-02, -2.1974e-02, -1.8507e-03, -4.0348e-03, -1.5332e-02,\n",
              "                      -2.6000e-02, -1.8626e-02, -1.7881e-02, -2.8806e-02, -4.8746e-03,\n",
              "                       5.2117e-04, -3.5524e-02,  3.5276e-02,  1.9274e-02, -1.4597e-02,\n",
              "                       3.7489e-02,  2.4153e-02, -5.2726e-03,  3.5320e-02,  1.3490e-02,\n",
              "                      -2.2662e-02, -2.7852e-02, -1.0120e-02,  8.4886e-03, -3.0992e-02,\n",
              "                      -2.0506e-02,  7.5290e-04, -1.5898e-02,  1.6921e-02,  2.0459e-03,\n",
              "                      -1.7894e-02,  2.9129e-02, -5.4935e-03, -2.9863e-02,  1.9031e-03,\n",
              "                      -3.3494e-02,  2.4294e-02, -3.7473e-02, -1.8028e-03,  2.4746e-02,\n",
              "                       6.6127e-03,  2.1944e-02, -1.3487e-02,  2.9026e-02, -2.1637e-02,\n",
              "                      -2.6116e-02, -1.6284e-05, -7.8429e-03, -2.5580e-02, -3.3264e-02,\n",
              "                       2.3889e-02, -2.2489e-02,  3.3062e-02,  2.7630e-02, -2.4447e-02,\n",
              "                       1.5234e-02,  6.6940e-03,  3.6024e-02,  2.6909e-02, -2.7675e-02,\n",
              "                       5.4294e-03,  5.2006e-03,  2.9157e-02,  3.4057e-02,  6.1873e-04,\n",
              "                       1.3365e-02, -3.5609e-02, -1.8890e-02,  1.7682e-02, -5.2733e-03,\n",
              "                      -1.7077e-02, -2.4927e-02,  9.5001e-03,  1.3495e-02, -1.3850e-04,\n",
              "                      -3.6141e-02,  1.7146e-02, -3.0712e-02, -1.6967e-03, -1.8722e-02,\n",
              "                      -3.5153e-05,  1.5529e-02,  1.9934e-02, -2.4996e-02, -1.5817e-02,\n",
              "                       2.5603e-02, -5.3140e-03, -1.9459e-02, -9.2029e-03, -2.6543e-02,\n",
              "                       2.1321e-03,  2.9912e-02, -1.5243e-02, -7.7429e-03,  5.0050e-03,\n",
              "                       3.0519e-02, -7.3945e-03, -3.1097e-03, -1.3865e-02,  9.9026e-03,\n",
              "                      -3.2466e-02, -3.7627e-02, -1.3422e-02, -1.0427e-02,  2.1377e-03,\n",
              "                      -6.0688e-03,  2.8623e-02, -9.8816e-03, -1.5493e-02, -3.3663e-02,\n",
              "                      -1.2207e-02,  2.0714e-02,  7.5187e-03,  3.7671e-02,  3.1614e-04,\n",
              "                      -2.4504e-02, -3.7076e-02,  2.8945e-02, -2.3758e-02, -1.3764e-02,\n",
              "                       1.8083e-02,  2.4609e-02,  1.6331e-02,  1.9995e-02,  2.4576e-02,\n",
              "                       3.0222e-02, -4.0500e-03, -3.3403e-03, -1.6479e-02, -2.8774e-03,\n",
              "                       3.4440e-03, -6.8797e-03, -2.2185e-02,  3.1309e-02, -1.9372e-03,\n",
              "                      -2.4458e-02,  2.3783e-02,  2.2976e-02,  3.0641e-02, -1.9648e-02,\n",
              "                       2.1407e-03, -3.6643e-02, -2.4720e-02,  1.6860e-02, -2.2766e-02,\n",
              "                       1.4337e-02,  2.0908e-02,  1.5782e-02, -5.3099e-03,  9.5026e-03,\n",
              "                       3.2643e-02, -3.3406e-02, -1.7788e-02, -9.5856e-03, -1.9034e-03,\n",
              "                       2.6211e-02,  9.1809e-03,  8.5669e-03,  6.3824e-03, -6.7577e-03,\n",
              "                      -1.9724e-02, -1.6573e-02, -2.1311e-02,  2.8633e-02, -3.2395e-02,\n",
              "                       1.2633e-02, -1.5238e-02, -3.7148e-02,  5.4258e-03,  2.6598e-02,\n",
              "                      -3.4482e-02, -1.2404e-02,  1.3461e-02, -2.9659e-02,  1.5229e-02,\n",
              "                      -3.2967e-02, -3.2873e-03, -1.5344e-03,  3.0648e-02, -1.8912e-03,\n",
              "                       2.7574e-02,  2.2823e-02, -3.5906e-02, -5.1922e-03,  4.7518e-03,\n",
              "                      -7.5980e-03, -2.3305e-02,  1.6202e-02,  1.0993e-02,  1.2283e-02,\n",
              "                      -3.3819e-02, -5.9721e-03, -3.4620e-02,  2.0248e-02,  2.4543e-02])),\n",
              "             ('linear2.weight',\n",
              "              tensor([[-0.0402,  0.0283,  0.0263,  ...,  0.0190,  0.0062,  0.0207],\n",
              "                      [-0.0305,  0.0241, -0.0027,  ..., -0.0121,  0.0265, -0.0412],\n",
              "                      [ 0.0403,  0.0433, -0.0336,  ..., -0.0290,  0.0308,  0.0265],\n",
              "                      ...,\n",
              "                      [ 0.0118,  0.0286,  0.0321,  ...,  0.0309,  0.0178,  0.0350],\n",
              "                      [ 0.0219, -0.0409, -0.0249,  ..., -0.0075,  0.0112, -0.0412],\n",
              "                      [ 0.0391, -0.0251,  0.0126,  ..., -0.0289, -0.0140, -0.0266]])),\n",
              "             ('linear2.bias',\n",
              "              tensor([ 0.0034,  0.0428,  0.0163,  0.0247, -0.0372, -0.0156,  0.0023, -0.0048,\n",
              "                      -0.0259, -0.0240,  0.0109, -0.0052,  0.0053,  0.0254, -0.0429,  0.0255,\n",
              "                       0.0243, -0.0398, -0.0186,  0.0082,  0.0180,  0.0305, -0.0264, -0.0196,\n",
              "                       0.0145, -0.0173,  0.0378, -0.0424,  0.0216,  0.0083,  0.0173, -0.0260,\n",
              "                       0.0337,  0.0125, -0.0428, -0.0404,  0.0376, -0.0266, -0.0347,  0.0442,\n",
              "                      -0.0190, -0.0107, -0.0166, -0.0098,  0.0203, -0.0052, -0.0018,  0.0077,\n",
              "                       0.0134,  0.0328,  0.0032,  0.0238,  0.0382,  0.0102,  0.0097,  0.0187,\n",
              "                      -0.0257,  0.0304,  0.0388,  0.0267,  0.0269, -0.0171,  0.0414, -0.0082,\n",
              "                       0.0382,  0.0187,  0.0323,  0.0177, -0.0297,  0.0250,  0.0203,  0.0364,\n",
              "                       0.0275,  0.0013, -0.0099, -0.0447, -0.0296,  0.0409, -0.0354, -0.0015,\n",
              "                       0.0303, -0.0412,  0.0224,  0.0069, -0.0403,  0.0318,  0.0177,  0.0124,\n",
              "                      -0.0088, -0.0355,  0.0077, -0.0172,  0.0275,  0.0071, -0.0163, -0.0335,\n",
              "                      -0.0002, -0.0293,  0.0159, -0.0047,  0.0270, -0.0281, -0.0201,  0.0257,\n",
              "                      -0.0154,  0.0325, -0.0231,  0.0191,  0.0312, -0.0139, -0.0380, -0.0226,\n",
              "                      -0.0215, -0.0265,  0.0192,  0.0076,  0.0357,  0.0052, -0.0176, -0.0216,\n",
              "                       0.0255,  0.0401,  0.0425,  0.0320, -0.0433, -0.0057,  0.0347, -0.0163,\n",
              "                      -0.0105,  0.0146, -0.0071, -0.0056, -0.0186, -0.0376,  0.0144, -0.0251,\n",
              "                      -0.0066,  0.0323, -0.0032, -0.0388, -0.0142, -0.0332,  0.0375,  0.0266,\n",
              "                       0.0164, -0.0254, -0.0027,  0.0132, -0.0322,  0.0228, -0.0124, -0.0140,\n",
              "                       0.0079,  0.0076, -0.0159,  0.0333, -0.0412,  0.0066, -0.0095, -0.0001,\n",
              "                      -0.0306,  0.0094, -0.0402,  0.0313,  0.0328, -0.0134, -0.0336, -0.0189,\n",
              "                      -0.0128, -0.0377, -0.0234,  0.0050, -0.0004,  0.0179,  0.0183,  0.0401,\n",
              "                      -0.0184,  0.0123,  0.0027,  0.0301,  0.0408,  0.0343,  0.0263,  0.0422,\n",
              "                       0.0231,  0.0026, -0.0023, -0.0075,  0.0187,  0.0014, -0.0090, -0.0163,\n",
              "                      -0.0328, -0.0188,  0.0005, -0.0049, -0.0378, -0.0005, -0.0088, -0.0380,\n",
              "                      -0.0235,  0.0329,  0.0130, -0.0275, -0.0137, -0.0309,  0.0368, -0.0369,\n",
              "                      -0.0247, -0.0003,  0.0401,  0.0368, -0.0339, -0.0029, -0.0118,  0.0232,\n",
              "                       0.0173, -0.0110,  0.0205,  0.0209, -0.0284, -0.0289,  0.0430,  0.0308,\n",
              "                      -0.0020,  0.0035, -0.0219,  0.0291, -0.0140,  0.0424, -0.0437,  0.0114,\n",
              "                       0.0133,  0.0420,  0.0039,  0.0360,  0.0274, -0.0182, -0.0238, -0.0114,\n",
              "                       0.0217,  0.0340,  0.0350,  0.0208, -0.0355,  0.0403, -0.0026,  0.0167,\n",
              "                      -0.0211,  0.0303, -0.0166, -0.0219, -0.0043,  0.0292,  0.0298, -0.0430,\n",
              "                       0.0053,  0.0332, -0.0226,  0.0320,  0.0116, -0.0146,  0.0235, -0.0323,\n",
              "                      -0.0343,  0.0267,  0.0183, -0.0350,  0.0055,  0.0326,  0.0191, -0.0109,\n",
              "                      -0.0311,  0.0128, -0.0161,  0.0077, -0.0094,  0.0183,  0.0277, -0.0069,\n",
              "                      -0.0343,  0.0024, -0.0315,  0.0268,  0.0201,  0.0077, -0.0255, -0.0027,\n",
              "                      -0.0027, -0.0297,  0.0177, -0.0031,  0.0281, -0.0095, -0.0157, -0.0318,\n",
              "                       0.0219, -0.0220,  0.0027, -0.0091,  0.0198,  0.0192, -0.0345, -0.0232,\n",
              "                      -0.0309,  0.0443,  0.0163,  0.0328, -0.0377,  0.0066, -0.0173, -0.0147,\n",
              "                       0.0334,  0.0035,  0.0246,  0.0019,  0.0070,  0.0273, -0.0067, -0.0068,\n",
              "                      -0.0083, -0.0153,  0.0023, -0.0366, -0.0041,  0.0238,  0.0346,  0.0154,\n",
              "                      -0.0263, -0.0352,  0.0359,  0.0183,  0.0060, -0.0109,  0.0295, -0.0166,\n",
              "                      -0.0255, -0.0009,  0.0141,  0.0207, -0.0369,  0.0431, -0.0343, -0.0059,\n",
              "                       0.0005, -0.0426, -0.0205,  0.0071,  0.0189,  0.0141,  0.0193, -0.0289,\n",
              "                       0.0420, -0.0094,  0.0227, -0.0156,  0.0172, -0.0100, -0.0446,  0.0222,\n",
              "                       0.0106, -0.0234, -0.0366, -0.0316, -0.0368, -0.0150,  0.0055, -0.0385,\n",
              "                       0.0074, -0.0224,  0.0145, -0.0356,  0.0046, -0.0014,  0.0252, -0.0010,\n",
              "                       0.0193, -0.0380,  0.0412, -0.0083, -0.0372, -0.0382,  0.0230,  0.0130,\n",
              "                       0.0241, -0.0325, -0.0090,  0.0145,  0.0231,  0.0293, -0.0098, -0.0035,\n",
              "                       0.0172,  0.0435,  0.0426, -0.0172,  0.0042, -0.0352, -0.0437,  0.0295,\n",
              "                      -0.0196,  0.0346, -0.0368, -0.0039, -0.0299, -0.0319,  0.0338,  0.0254,\n",
              "                       0.0175, -0.0219,  0.0353, -0.0334, -0.0119,  0.0362,  0.0377, -0.0135,\n",
              "                      -0.0042,  0.0070,  0.0133,  0.0143, -0.0163,  0.0049,  0.0337,  0.0231,\n",
              "                      -0.0323,  0.0243,  0.0404, -0.0274,  0.0171,  0.0389,  0.0006, -0.0441,\n",
              "                      -0.0015, -0.0445,  0.0340,  0.0421,  0.0114, -0.0243, -0.0092, -0.0402,\n",
              "                       0.0016,  0.0049,  0.0011, -0.0377,  0.0003,  0.0236, -0.0369,  0.0330,\n",
              "                      -0.0005,  0.0161, -0.0268, -0.0152,  0.0424,  0.0336, -0.0438, -0.0328,\n",
              "                      -0.0392, -0.0430,  0.0233, -0.0151,  0.0340, -0.0388,  0.0149, -0.0097,\n",
              "                      -0.0181,  0.0034,  0.0190, -0.0280, -0.0114, -0.0167,  0.0292,  0.0191,\n",
              "                       0.0217, -0.0078, -0.0175,  0.0302,  0.0136, -0.0443,  0.0172, -0.0002,\n",
              "                       0.0037, -0.0260, -0.0222,  0.0424,  0.0394,  0.0116,  0.0409, -0.0421,\n",
              "                       0.0146, -0.0284, -0.0217, -0.0313, -0.0356, -0.0395, -0.0080, -0.0419,\n",
              "                       0.0215, -0.0424, -0.0353, -0.0124])),\n",
              "             ('linear3.weight',\n",
              "              tensor([[ 0.0313, -0.0056,  0.0156,  ..., -0.0097,  0.0022, -0.0443],\n",
              "                      [-0.0181,  0.0347, -0.0230,  ..., -0.0166,  0.0020, -0.0419],\n",
              "                      [-0.0376,  0.0236, -0.0180,  ...,  0.0371, -0.0164,  0.0314],\n",
              "                      ...,\n",
              "                      [ 0.0395, -0.0152,  0.0260,  ...,  0.0249,  0.0231, -0.0141],\n",
              "                      [ 0.0130, -0.0265, -0.0054,  ..., -0.0264, -0.0314,  0.0319],\n",
              "                      [-0.0426, -0.0290, -0.0283,  ..., -0.0154, -0.0330,  0.0123]])),\n",
              "             ('linear3.bias',\n",
              "              tensor([ 0.0406, -0.0222, -0.0079,  0.0007,  0.0099, -0.0348, -0.0156, -0.0126,\n",
              "                       0.0221,  0.0215]))])"
            ]
          },
          "metadata": {},
          "execution_count": 38
        }
      ],
      "source": [
        "torch.load('model.pt')"
      ]
    },
    {
      "cell_type": "code",
      "execution_count": 39,
      "metadata": {
        "pycharm": {
          "name": "#%%\n"
        },
        "id": "c2TwFwh0IT0L",
        "colab": {
          "base_uri": "https://localhost:8080/"
        },
        "outputId": "8d4eae6b-d3b4-4276-96b6-99bb336ce7d2"
      },
      "outputs": [
        {
          "output_type": "stream",
          "name": "stderr",
          "text": [
            "<ipython-input-39-6c6a62611f0a>:1: FutureWarning: You are using `torch.load` with `weights_only=False` (the current default value), which uses the default pickle module implicitly. It is possible to construct malicious pickle data which will execute arbitrary code during unpickling (See https://github.com/pytorch/pytorch/blob/main/SECURITY.md#untrusted-models for more details). In a future release, the default value for `weights_only` will be flipped to `True`. This limits the functions that could be executed during unpickling. Arbitrary objects will no longer be allowed to be loaded via this mode unless they are explicitly allowlisted by the user via `torch.serialization.add_safe_globals`. We recommend you start setting `weights_only=True` for any use case where you don't have full control of the loaded file. Please open an issue on GitHub for any issues related to this experimental feature.\n",
            "  net.load_state_dict(torch.load('model.pt'))\n"
          ]
        },
        {
          "output_type": "execute_result",
          "data": {
            "text/plain": [
              "<All keys matched successfully>"
            ]
          },
          "metadata": {},
          "execution_count": 39
        }
      ],
      "source": [
        "net.load_state_dict(torch.load('model.pt'))"
      ]
    },
    {
      "cell_type": "code",
      "execution_count": 40,
      "metadata": {
        "id": "In2V1vnqIT0L"
      },
      "outputs": [],
      "source": [
        "torch.save(torch.rand(100, 100), \"tensor.pt\")"
      ]
    },
    {
      "cell_type": "code",
      "execution_count": 41,
      "metadata": {
        "id": "VaPLq-wGIT0M",
        "outputId": "11a42de8-6b59-461f-d922-93dcb4e1d730",
        "colab": {
          "base_uri": "https://localhost:8080/"
        }
      },
      "outputs": [
        {
          "output_type": "stream",
          "name": "stdout",
          "text": [
            "total 2432\n",
            "drwxr-xr-x 1 root root    4096 Oct 14 08:54 .\n",
            "drwxr-xr-x 1 root root    4096 Oct 14 08:23 ..\n",
            "drwxr-xr-x 4 root root    4096 Oct 10 13:27 .config\n",
            "-rw-r--r-- 1 root root 2426420 Oct 14 08:54 model.pt\n",
            "drwxr-xr-x 1 root root    4096 Oct 10 13:27 sample_data\n",
            "-rw-r--r-- 1 root root   41111 Oct 14 08:54 tensor.pt\n"
          ]
        }
      ],
      "source": [
        "! ls -la"
      ]
    },
    {
      "cell_type": "code",
      "execution_count": 43,
      "metadata": {
        "id": "GpbmhDYGIT0M",
        "outputId": "37b32ad0-8949-46e3-f4cb-f40441854a83",
        "colab": {
          "base_uri": "https://localhost:8080/"
        }
      },
      "outputs": [
        {
          "output_type": "stream",
          "name": "stderr",
          "text": [
            "<ipython-input-43-f0854697d241>:1: FutureWarning: You are using `torch.load` with `weights_only=False` (the current default value), which uses the default pickle module implicitly. It is possible to construct malicious pickle data which will execute arbitrary code during unpickling (See https://github.com/pytorch/pytorch/blob/main/SECURITY.md#untrusted-models for more details). In a future release, the default value for `weights_only` will be flipped to `True`. This limits the functions that could be executed during unpickling. Arbitrary objects will no longer be allowed to be loaded via this mode unless they are explicitly allowlisted by the user via `torch.serialization.add_safe_globals`. We recommend you start setting `weights_only=True` for any use case where you don't have full control of the loaded file. Please open an issue on GitHub for any issues related to this experimental feature.\n",
            "  a = torch.load(\"tensor.pt\")\n"
          ]
        },
        {
          "output_type": "execute_result",
          "data": {
            "text/plain": [
              "tensor([[0.5397, 0.6305, 0.6956,  ..., 0.4076, 0.2034, 0.5527],\n",
              "        [0.5431, 0.7084, 0.3521,  ..., 0.0615, 0.4107, 0.0168],\n",
              "        [0.9113, 0.1546, 0.4954,  ..., 0.2272, 0.1934, 0.7761],\n",
              "        ...,\n",
              "        [0.8949, 0.9497, 0.2219,  ..., 0.4994, 0.1716, 0.7696],\n",
              "        [0.3522, 0.4587, 0.2488,  ..., 0.6451, 0.1017, 0.4625],\n",
              "        [0.4956, 0.8417, 0.1473,  ..., 0.1457, 0.3538, 0.3098]])"
            ]
          },
          "metadata": {},
          "execution_count": 43
        }
      ],
      "source": [
        "a = torch.load(\"tensor.pt\")\n",
        "a"
      ]
    },
    {
      "cell_type": "markdown",
      "metadata": {
        "pycharm": {
          "name": "#%% md\n"
        },
        "id": "TeTptR1rIT0M"
      },
      "source": [
        "### Оптимизаторы"
      ]
    },
    {
      "cell_type": "code",
      "execution_count": 44,
      "metadata": {
        "pycharm": {
          "name": "#%%\n"
        },
        "id": "TefShtycIT0M"
      },
      "outputs": [],
      "source": [
        "from torch import optim"
      ]
    },
    {
      "cell_type": "code",
      "execution_count": 47,
      "metadata": {
        "pycharm": {
          "name": "#%%\n"
        },
        "id": "McB9l-njIT0S",
        "outputId": "72520af1-3745-4762-8c89-39d81148d713",
        "colab": {
          "base_uri": "https://localhost:8080/"
        }
      },
      "outputs": [
        {
          "output_type": "execute_result",
          "data": {
            "text/plain": [
              "(torch.optim.sgd.SGD, torch.optim.adam.Adam)"
            ]
          },
          "metadata": {},
          "execution_count": 47
        }
      ],
      "source": [
        "optim.SGD, optim.Adam"
      ]
    },
    {
      "cell_type": "code",
      "execution_count": 48,
      "metadata": {
        "pycharm": {
          "name": "#%%\n"
        },
        "id": "FIeSsXg6IT0S"
      },
      "outputs": [],
      "source": [
        "optimizer = optim.Adam(net.parameters(), betas=(0.9, 0.999), lr=1e-3)"
      ]
    },
    {
      "cell_type": "code",
      "execution_count": 50,
      "metadata": {
        "id": "G5NyPrneIT0S",
        "colab": {
          "base_uri": "https://localhost:8080/"
        },
        "outputId": "66083c18-37c5-4083-d27b-ab979598e1ea"
      },
      "outputs": [
        {
          "output_type": "stream",
          "name": "stdout",
          "text": [
            "Parameter containing:\n",
            "tensor([[-0.0046, -0.0147, -0.0108,  ..., -0.0097, -0.0142, -0.0183],\n",
            "        [-0.0269,  0.0245,  0.0160,  ...,  0.0221,  0.0033, -0.0027],\n",
            "        [-0.0318, -0.0120, -0.0059,  ..., -0.0002, -0.0039,  0.0289],\n",
            "        ...,\n",
            "        [ 0.0335, -0.0154, -0.0097,  ..., -0.0269,  0.0093, -0.0069],\n",
            "        [ 0.0231, -0.0092,  0.0288,  ...,  0.0022,  0.0373,  0.0132],\n",
            "        [ 0.0060, -0.0098, -0.0267,  ..., -0.0337,  0.0169, -0.0013]],\n",
            "       requires_grad=True)\n",
            "Parameter containing:\n",
            "tensor([-2.1088e-02,  1.0055e-02, -7.7552e-03, -1.9122e-02, -3.3471e-02,\n",
            "        -2.0890e-02,  1.7957e-02,  2.6099e-02,  3.0136e-02, -3.0112e-02,\n",
            "         2.7849e-02, -1.2145e-02, -2.8552e-02,  1.0605e-02, -7.8391e-03,\n",
            "        -2.5345e-02,  6.5207e-03,  3.5297e-02,  1.6740e-02,  6.9777e-03,\n",
            "        -3.3125e-02,  1.8327e-02,  1.6675e-02,  1.7545e-02,  7.4183e-03,\n",
            "        -3.3241e-02,  6.3233e-03, -1.6696e-02, -1.5523e-02, -2.8453e-02,\n",
            "         6.5478e-03,  2.4674e-02, -3.0306e-02, -1.9385e-02,  1.4468e-02,\n",
            "        -2.1729e-03, -8.4098e-03, -3.4562e-02, -3.6783e-02,  2.9103e-02,\n",
            "        -1.9729e-02, -2.3040e-02,  2.1877e-02,  6.0152e-03,  1.1391e-02,\n",
            "        -6.1097e-03,  3.3665e-02, -8.8738e-03,  2.9855e-02, -3.3741e-02,\n",
            "        -1.2577e-02,  3.6876e-02,  8.4248e-03,  2.4642e-02,  1.0302e-02,\n",
            "        -6.1079e-05,  7.1781e-03, -8.0475e-03,  3.1832e-02,  2.9259e-02,\n",
            "        -1.5856e-03,  1.4783e-02,  1.7176e-02,  1.3105e-02, -6.7287e-03,\n",
            "         7.3206e-03,  2.7062e-02, -1.4028e-02,  2.2943e-02,  2.3746e-02,\n",
            "        -3.6304e-02,  3.6079e-02, -2.3212e-02, -3.6907e-02,  2.5203e-02,\n",
            "        -1.2118e-02,  2.9581e-02,  2.1207e-02, -1.2558e-02,  1.9321e-02,\n",
            "        -8.6805e-03,  2.7435e-02, -2.9800e-02, -7.4419e-03,  3.1814e-02,\n",
            "        -2.1617e-02,  4.0231e-03,  1.6897e-03, -2.7224e-02,  2.2252e-02,\n",
            "        -7.8276e-03, -5.8323e-03,  2.1604e-02,  2.0243e-02, -3.0634e-02,\n",
            "        -2.7636e-02,  2.7618e-02, -3.7075e-02,  2.7422e-02,  3.3624e-02,\n",
            "         2.0136e-02, -1.3579e-02, -2.2899e-02, -1.4406e-02,  2.4088e-02,\n",
            "        -9.2240e-03,  2.6004e-02,  4.2309e-03, -2.8261e-03, -3.2937e-02,\n",
            "         3.1131e-02,  2.3983e-02,  2.5834e-02, -2.6628e-02, -2.7433e-03,\n",
            "         1.2604e-02, -2.5830e-02,  7.5568e-03,  1.7652e-02,  2.4667e-02,\n",
            "        -1.8043e-02,  3.3015e-02,  2.3048e-02, -2.3558e-02,  3.4824e-02,\n",
            "        -2.8269e-02, -3.1550e-02, -2.7370e-02, -2.6664e-02,  7.4422e-03,\n",
            "        -2.6541e-03,  3.2709e-02, -1.3939e-02, -2.2142e-03,  3.4098e-02,\n",
            "        -2.3110e-02, -1.9643e-02,  2.7051e-02,  5.9541e-03,  1.0441e-02,\n",
            "        -3.7375e-02,  1.6852e-02, -1.5934e-03,  3.5533e-02,  1.0102e-02,\n",
            "         3.3332e-02,  1.0482e-02, -1.4666e-03, -9.0070e-04, -2.3667e-02,\n",
            "         9.0613e-03,  3.0280e-02, -2.8597e-02, -4.7025e-03, -3.0936e-02,\n",
            "         3.3503e-02,  7.9252e-03,  3.6596e-02,  2.0123e-02, -1.7245e-02,\n",
            "         3.3844e-02,  3.7385e-03,  3.1676e-02, -3.1413e-03,  3.0088e-02,\n",
            "         2.7965e-02,  9.2660e-03, -1.5061e-02,  2.0272e-02,  1.7319e-02,\n",
            "         1.1421e-02,  1.6356e-02, -2.4352e-02,  2.3212e-02, -1.2722e-02,\n",
            "        -9.1015e-03, -3.1929e-02, -1.6754e-03, -1.4019e-02,  3.1846e-02,\n",
            "        -9.5939e-03,  2.3547e-02,  2.9385e-02,  2.3610e-02, -2.9643e-02,\n",
            "        -3.4354e-02,  1.0636e-02,  3.2803e-02, -3.7144e-02,  1.3430e-02,\n",
            "         4.3989e-03,  1.3182e-02, -3.5367e-02, -1.0653e-02, -2.4406e-02,\n",
            "        -2.6916e-02,  1.7391e-02,  4.7808e-04,  2.8604e-02,  3.6015e-02,\n",
            "         1.8232e-02, -3.7585e-02,  3.0150e-02,  1.7946e-02,  7.0479e-04,\n",
            "         8.1254e-03, -1.2554e-03,  3.6734e-02,  1.0598e-02, -2.4759e-02,\n",
            "        -2.6136e-02, -2.6340e-02,  2.1876e-02,  1.2150e-02,  1.5493e-02,\n",
            "        -3.3803e-03,  2.9934e-02, -2.7638e-02,  2.2518e-02, -1.3672e-02,\n",
            "         1.8667e-02,  3.6630e-02,  3.4238e-02, -1.9072e-02, -2.3200e-02,\n",
            "         2.3868e-02, -4.1296e-03,  3.5641e-03, -1.7887e-02, -2.8080e-02,\n",
            "         2.5498e-02,  2.9298e-02,  2.2406e-02, -2.5950e-03,  2.8695e-02,\n",
            "         3.1996e-03,  3.5602e-02, -2.1324e-02, -1.2049e-02,  3.8762e-03,\n",
            "         1.8266e-03, -3.7611e-02,  3.0309e-02, -2.4930e-02,  2.9155e-02,\n",
            "        -3.2713e-02,  1.3671e-02, -1.9708e-02, -6.1535e-03, -1.0558e-02,\n",
            "        -1.5693e-02, -3.4235e-02, -3.5057e-02,  1.6365e-02,  2.7775e-02,\n",
            "        -3.3592e-02,  4.2016e-03,  9.7943e-03,  1.4701e-02, -2.3763e-02,\n",
            "        -2.8359e-02, -2.5611e-02, -9.1226e-03,  4.2522e-03,  3.1462e-02,\n",
            "        -2.0447e-02, -1.0213e-02, -1.2950e-02,  1.5270e-02, -1.2357e-02,\n",
            "        -2.4148e-02, -1.3724e-02, -3.7999e-03,  1.8555e-02, -1.9261e-02,\n",
            "        -2.4181e-02, -2.7522e-02, -2.5183e-02,  2.8741e-02,  2.1401e-02,\n",
            "        -3.3081e-02,  2.3929e-02,  1.3709e-02, -3.1708e-02,  7.9679e-04,\n",
            "         2.9082e-02,  3.7677e-02,  1.6617e-02, -3.7382e-02, -3.3329e-02,\n",
            "        -1.0952e-02, -6.0063e-03,  2.9784e-02, -1.5767e-02,  7.5520e-03,\n",
            "        -3.4725e-02, -1.1838e-02, -2.2909e-03, -1.1572e-02,  1.8612e-02,\n",
            "        -7.8427e-03, -1.4418e-02,  3.5646e-02,  2.8472e-02, -2.9033e-03,\n",
            "         3.7322e-02, -2.1974e-02, -1.8507e-03, -4.0348e-03, -1.5332e-02,\n",
            "        -2.6000e-02, -1.8626e-02, -1.7881e-02, -2.8806e-02, -4.8746e-03,\n",
            "         5.2117e-04, -3.5524e-02,  3.5276e-02,  1.9274e-02, -1.4597e-02,\n",
            "         3.7489e-02,  2.4153e-02, -5.2726e-03,  3.5320e-02,  1.3490e-02,\n",
            "        -2.2662e-02, -2.7852e-02, -1.0120e-02,  8.4886e-03, -3.0992e-02,\n",
            "        -2.0506e-02,  7.5290e-04, -1.5898e-02,  1.6921e-02,  2.0459e-03,\n",
            "        -1.7894e-02,  2.9129e-02, -5.4935e-03, -2.9863e-02,  1.9031e-03,\n",
            "        -3.3494e-02,  2.4294e-02, -3.7473e-02, -1.8028e-03,  2.4746e-02,\n",
            "         6.6127e-03,  2.1944e-02, -1.3487e-02,  2.9026e-02, -2.1637e-02,\n",
            "        -2.6116e-02, -1.6284e-05, -7.8429e-03, -2.5580e-02, -3.3264e-02,\n",
            "         2.3889e-02, -2.2489e-02,  3.3062e-02,  2.7630e-02, -2.4447e-02,\n",
            "         1.5234e-02,  6.6940e-03,  3.6024e-02,  2.6909e-02, -2.7675e-02,\n",
            "         5.4294e-03,  5.2006e-03,  2.9157e-02,  3.4057e-02,  6.1873e-04,\n",
            "         1.3365e-02, -3.5609e-02, -1.8890e-02,  1.7682e-02, -5.2733e-03,\n",
            "        -1.7077e-02, -2.4927e-02,  9.5001e-03,  1.3495e-02, -1.3850e-04,\n",
            "        -3.6141e-02,  1.7146e-02, -3.0712e-02, -1.6967e-03, -1.8722e-02,\n",
            "        -3.5153e-05,  1.5529e-02,  1.9934e-02, -2.4996e-02, -1.5817e-02,\n",
            "         2.5603e-02, -5.3140e-03, -1.9459e-02, -9.2029e-03, -2.6543e-02,\n",
            "         2.1321e-03,  2.9912e-02, -1.5243e-02, -7.7429e-03,  5.0050e-03,\n",
            "         3.0519e-02, -7.3945e-03, -3.1097e-03, -1.3865e-02,  9.9026e-03,\n",
            "        -3.2466e-02, -3.7627e-02, -1.3422e-02, -1.0427e-02,  2.1377e-03,\n",
            "        -6.0688e-03,  2.8623e-02, -9.8816e-03, -1.5493e-02, -3.3663e-02,\n",
            "        -1.2207e-02,  2.0714e-02,  7.5187e-03,  3.7671e-02,  3.1614e-04,\n",
            "        -2.4504e-02, -3.7076e-02,  2.8945e-02, -2.3758e-02, -1.3764e-02,\n",
            "         1.8083e-02,  2.4609e-02,  1.6331e-02,  1.9995e-02,  2.4576e-02,\n",
            "         3.0222e-02, -4.0500e-03, -3.3403e-03, -1.6479e-02, -2.8774e-03,\n",
            "         3.4440e-03, -6.8797e-03, -2.2185e-02,  3.1309e-02, -1.9372e-03,\n",
            "        -2.4458e-02,  2.3783e-02,  2.2976e-02,  3.0641e-02, -1.9648e-02,\n",
            "         2.1407e-03, -3.6643e-02, -2.4720e-02,  1.6860e-02, -2.2766e-02,\n",
            "         1.4337e-02,  2.0908e-02,  1.5782e-02, -5.3099e-03,  9.5026e-03,\n",
            "         3.2643e-02, -3.3406e-02, -1.7788e-02, -9.5856e-03, -1.9034e-03,\n",
            "         2.6211e-02,  9.1809e-03,  8.5669e-03,  6.3824e-03, -6.7577e-03,\n",
            "        -1.9724e-02, -1.6573e-02, -2.1311e-02,  2.8633e-02, -3.2395e-02,\n",
            "         1.2633e-02, -1.5238e-02, -3.7148e-02,  5.4258e-03,  2.6598e-02,\n",
            "        -3.4482e-02, -1.2404e-02,  1.3461e-02, -2.9659e-02,  1.5229e-02,\n",
            "        -3.2967e-02, -3.2873e-03, -1.5344e-03,  3.0648e-02, -1.8912e-03,\n",
            "         2.7574e-02,  2.2823e-02, -3.5906e-02, -5.1922e-03,  4.7518e-03,\n",
            "        -7.5980e-03, -2.3305e-02,  1.6202e-02,  1.0993e-02,  1.2283e-02,\n",
            "        -3.3819e-02, -5.9721e-03, -3.4620e-02,  2.0248e-02,  2.4543e-02],\n",
            "       requires_grad=True)\n",
            "Parameter containing:\n",
            "tensor([[-0.0402,  0.0283,  0.0263,  ...,  0.0190,  0.0062,  0.0207],\n",
            "        [-0.0305,  0.0241, -0.0027,  ..., -0.0121,  0.0265, -0.0412],\n",
            "        [ 0.0403,  0.0433, -0.0336,  ..., -0.0290,  0.0308,  0.0265],\n",
            "        ...,\n",
            "        [ 0.0118,  0.0286,  0.0321,  ...,  0.0309,  0.0178,  0.0350],\n",
            "        [ 0.0219, -0.0409, -0.0249,  ..., -0.0075,  0.0112, -0.0412],\n",
            "        [ 0.0391, -0.0251,  0.0126,  ..., -0.0289, -0.0140, -0.0266]],\n",
            "       requires_grad=True)\n",
            "Parameter containing:\n",
            "tensor([ 0.0034,  0.0428,  0.0163,  0.0247, -0.0372, -0.0156,  0.0023, -0.0048,\n",
            "        -0.0259, -0.0240,  0.0109, -0.0052,  0.0053,  0.0254, -0.0429,  0.0255,\n",
            "         0.0243, -0.0398, -0.0186,  0.0082,  0.0180,  0.0305, -0.0264, -0.0196,\n",
            "         0.0145, -0.0173,  0.0378, -0.0424,  0.0216,  0.0083,  0.0173, -0.0260,\n",
            "         0.0337,  0.0125, -0.0428, -0.0404,  0.0376, -0.0266, -0.0347,  0.0442,\n",
            "        -0.0190, -0.0107, -0.0166, -0.0098,  0.0203, -0.0052, -0.0018,  0.0077,\n",
            "         0.0134,  0.0328,  0.0032,  0.0238,  0.0382,  0.0102,  0.0097,  0.0187,\n",
            "        -0.0257,  0.0304,  0.0388,  0.0267,  0.0269, -0.0171,  0.0414, -0.0082,\n",
            "         0.0382,  0.0187,  0.0323,  0.0177, -0.0297,  0.0250,  0.0203,  0.0364,\n",
            "         0.0275,  0.0013, -0.0099, -0.0447, -0.0296,  0.0409, -0.0354, -0.0015,\n",
            "         0.0303, -0.0412,  0.0224,  0.0069, -0.0403,  0.0318,  0.0177,  0.0124,\n",
            "        -0.0088, -0.0355,  0.0077, -0.0172,  0.0275,  0.0071, -0.0163, -0.0335,\n",
            "        -0.0002, -0.0293,  0.0159, -0.0047,  0.0270, -0.0281, -0.0201,  0.0257,\n",
            "        -0.0154,  0.0325, -0.0231,  0.0191,  0.0312, -0.0139, -0.0380, -0.0226,\n",
            "        -0.0215, -0.0265,  0.0192,  0.0076,  0.0357,  0.0052, -0.0176, -0.0216,\n",
            "         0.0255,  0.0401,  0.0425,  0.0320, -0.0433, -0.0057,  0.0347, -0.0163,\n",
            "        -0.0105,  0.0146, -0.0071, -0.0056, -0.0186, -0.0376,  0.0144, -0.0251,\n",
            "        -0.0066,  0.0323, -0.0032, -0.0388, -0.0142, -0.0332,  0.0375,  0.0266,\n",
            "         0.0164, -0.0254, -0.0027,  0.0132, -0.0322,  0.0228, -0.0124, -0.0140,\n",
            "         0.0079,  0.0076, -0.0159,  0.0333, -0.0412,  0.0066, -0.0095, -0.0001,\n",
            "        -0.0306,  0.0094, -0.0402,  0.0313,  0.0328, -0.0134, -0.0336, -0.0189,\n",
            "        -0.0128, -0.0377, -0.0234,  0.0050, -0.0004,  0.0179,  0.0183,  0.0401,\n",
            "        -0.0184,  0.0123,  0.0027,  0.0301,  0.0408,  0.0343,  0.0263,  0.0422,\n",
            "         0.0231,  0.0026, -0.0023, -0.0075,  0.0187,  0.0014, -0.0090, -0.0163,\n",
            "        -0.0328, -0.0188,  0.0005, -0.0049, -0.0378, -0.0005, -0.0088, -0.0380,\n",
            "        -0.0235,  0.0329,  0.0130, -0.0275, -0.0137, -0.0309,  0.0368, -0.0369,\n",
            "        -0.0247, -0.0003,  0.0401,  0.0368, -0.0339, -0.0029, -0.0118,  0.0232,\n",
            "         0.0173, -0.0110,  0.0205,  0.0209, -0.0284, -0.0289,  0.0430,  0.0308,\n",
            "        -0.0020,  0.0035, -0.0219,  0.0291, -0.0140,  0.0424, -0.0437,  0.0114,\n",
            "         0.0133,  0.0420,  0.0039,  0.0360,  0.0274, -0.0182, -0.0238, -0.0114,\n",
            "         0.0217,  0.0340,  0.0350,  0.0208, -0.0355,  0.0403, -0.0026,  0.0167,\n",
            "        -0.0211,  0.0303, -0.0166, -0.0219, -0.0043,  0.0292,  0.0298, -0.0430,\n",
            "         0.0053,  0.0332, -0.0226,  0.0320,  0.0116, -0.0146,  0.0235, -0.0323,\n",
            "        -0.0343,  0.0267,  0.0183, -0.0350,  0.0055,  0.0326,  0.0191, -0.0109,\n",
            "        -0.0311,  0.0128, -0.0161,  0.0077, -0.0094,  0.0183,  0.0277, -0.0069,\n",
            "        -0.0343,  0.0024, -0.0315,  0.0268,  0.0201,  0.0077, -0.0255, -0.0027,\n",
            "        -0.0027, -0.0297,  0.0177, -0.0031,  0.0281, -0.0095, -0.0157, -0.0318,\n",
            "         0.0219, -0.0220,  0.0027, -0.0091,  0.0198,  0.0192, -0.0345, -0.0232,\n",
            "        -0.0309,  0.0443,  0.0163,  0.0328, -0.0377,  0.0066, -0.0173, -0.0147,\n",
            "         0.0334,  0.0035,  0.0246,  0.0019,  0.0070,  0.0273, -0.0067, -0.0068,\n",
            "        -0.0083, -0.0153,  0.0023, -0.0366, -0.0041,  0.0238,  0.0346,  0.0154,\n",
            "        -0.0263, -0.0352,  0.0359,  0.0183,  0.0060, -0.0109,  0.0295, -0.0166,\n",
            "        -0.0255, -0.0009,  0.0141,  0.0207, -0.0369,  0.0431, -0.0343, -0.0059,\n",
            "         0.0005, -0.0426, -0.0205,  0.0071,  0.0189,  0.0141,  0.0193, -0.0289,\n",
            "         0.0420, -0.0094,  0.0227, -0.0156,  0.0172, -0.0100, -0.0446,  0.0222,\n",
            "         0.0106, -0.0234, -0.0366, -0.0316, -0.0368, -0.0150,  0.0055, -0.0385,\n",
            "         0.0074, -0.0224,  0.0145, -0.0356,  0.0046, -0.0014,  0.0252, -0.0010,\n",
            "         0.0193, -0.0380,  0.0412, -0.0083, -0.0372, -0.0382,  0.0230,  0.0130,\n",
            "         0.0241, -0.0325, -0.0090,  0.0145,  0.0231,  0.0293, -0.0098, -0.0035,\n",
            "         0.0172,  0.0435,  0.0426, -0.0172,  0.0042, -0.0352, -0.0437,  0.0295,\n",
            "        -0.0196,  0.0346, -0.0368, -0.0039, -0.0299, -0.0319,  0.0338,  0.0254,\n",
            "         0.0175, -0.0219,  0.0353, -0.0334, -0.0119,  0.0362,  0.0377, -0.0135,\n",
            "        -0.0042,  0.0070,  0.0133,  0.0143, -0.0163,  0.0049,  0.0337,  0.0231,\n",
            "        -0.0323,  0.0243,  0.0404, -0.0274,  0.0171,  0.0389,  0.0006, -0.0441,\n",
            "        -0.0015, -0.0445,  0.0340,  0.0421,  0.0114, -0.0243, -0.0092, -0.0402,\n",
            "         0.0016,  0.0049,  0.0011, -0.0377,  0.0003,  0.0236, -0.0369,  0.0330,\n",
            "        -0.0005,  0.0161, -0.0268, -0.0152,  0.0424,  0.0336, -0.0438, -0.0328,\n",
            "        -0.0392, -0.0430,  0.0233, -0.0151,  0.0340, -0.0388,  0.0149, -0.0097,\n",
            "        -0.0181,  0.0034,  0.0190, -0.0280, -0.0114, -0.0167,  0.0292,  0.0191,\n",
            "         0.0217, -0.0078, -0.0175,  0.0302,  0.0136, -0.0443,  0.0172, -0.0002,\n",
            "         0.0037, -0.0260, -0.0222,  0.0424,  0.0394,  0.0116,  0.0409, -0.0421,\n",
            "         0.0146, -0.0284, -0.0217, -0.0313, -0.0356, -0.0395, -0.0080, -0.0419,\n",
            "         0.0215, -0.0424, -0.0353, -0.0124], requires_grad=True)\n",
            "Parameter containing:\n",
            "tensor([[ 0.0313, -0.0056,  0.0156,  ..., -0.0097,  0.0022, -0.0443],\n",
            "        [-0.0181,  0.0347, -0.0230,  ..., -0.0166,  0.0020, -0.0419],\n",
            "        [-0.0376,  0.0236, -0.0180,  ...,  0.0371, -0.0164,  0.0314],\n",
            "        ...,\n",
            "        [ 0.0395, -0.0152,  0.0260,  ...,  0.0249,  0.0231, -0.0141],\n",
            "        [ 0.0130, -0.0265, -0.0054,  ..., -0.0264, -0.0314,  0.0319],\n",
            "        [-0.0426, -0.0290, -0.0283,  ..., -0.0154, -0.0330,  0.0123]],\n",
            "       requires_grad=True)\n",
            "Parameter containing:\n",
            "tensor([ 0.0406, -0.0222, -0.0079,  0.0007,  0.0099, -0.0348, -0.0156, -0.0126,\n",
            "         0.0221,  0.0215], requires_grad=True)\n"
          ]
        }
      ],
      "source": [
        "for param in net.parameters():\n",
        "    print(param)\n",
        "    # param = param - param.grad * self.lr"
      ]
    },
    {
      "cell_type": "code",
      "execution_count": 51,
      "metadata": {
        "pycharm": {
          "name": "#%%\n"
        },
        "id": "FMRHHbWCIT0S",
        "outputId": "9c6ec43c-4d20-4f5a-e9a3-ac34bf912807",
        "colab": {
          "base_uri": "https://localhost:8080/"
        }
      },
      "outputs": [
        {
          "output_type": "execute_result",
          "data": {
            "text/plain": [
              "Adam (\n",
              "Parameter Group 0\n",
              "    amsgrad: False\n",
              "    betas: (0.9, 0.999)\n",
              "    capturable: False\n",
              "    differentiable: False\n",
              "    eps: 1e-08\n",
              "    foreach: None\n",
              "    fused: None\n",
              "    lr: 0.001\n",
              "    maximize: False\n",
              "    weight_decay: 0\n",
              ")"
            ]
          },
          "metadata": {},
          "execution_count": 51
        }
      ],
      "source": [
        "optimizer"
      ]
    },
    {
      "cell_type": "code",
      "execution_count": 53,
      "metadata": {
        "pycharm": {
          "name": "#%%\n"
        },
        "id": "I7rQVH2iIT0T"
      },
      "outputs": [],
      "source": [
        "optimizer = optim.SGD(\n",
        "    [\n",
        "        {'params': net.linear1.parameters()},\n",
        "        {'params': net.linear2.parameters(), 'lr': 1e-5}\n",
        "    ],\n",
        "    lr=1e-2,\n",
        "    momentum=0.9\n",
        ")"
      ]
    },
    {
      "cell_type": "code",
      "execution_count": 54,
      "metadata": {
        "id": "66xUp0SoIT0T",
        "outputId": "d8e69acb-3811-4d9f-f563-48827fa2bb72",
        "colab": {
          "base_uri": "https://localhost:8080/"
        }
      },
      "outputs": [
        {
          "output_type": "execute_result",
          "data": {
            "text/plain": [
              "SGD (\n",
              "Parameter Group 0\n",
              "    dampening: 0\n",
              "    differentiable: False\n",
              "    foreach: None\n",
              "    fused: None\n",
              "    lr: 0.01\n",
              "    maximize: False\n",
              "    momentum: 0.9\n",
              "    nesterov: False\n",
              "    weight_decay: 0\n",
              "\n",
              "Parameter Group 1\n",
              "    dampening: 0\n",
              "    differentiable: False\n",
              "    foreach: None\n",
              "    fused: None\n",
              "    lr: 1e-05\n",
              "    maximize: False\n",
              "    momentum: 0.9\n",
              "    nesterov: False\n",
              "    weight_decay: 0\n",
              ")"
            ]
          },
          "metadata": {},
          "execution_count": 54
        }
      ],
      "source": [
        "optimizer"
      ]
    },
    {
      "cell_type": "code",
      "execution_count": 55,
      "metadata": {
        "pycharm": {
          "name": "#%%\n"
        },
        "id": "uwS5En4LIT0U"
      },
      "outputs": [],
      "source": [
        "optimizer.step()"
      ]
    },
    {
      "cell_type": "code",
      "execution_count": 56,
      "metadata": {
        "pycharm": {
          "name": "#%%\n"
        },
        "id": "EY6U6-3VIT0U"
      },
      "outputs": [],
      "source": [
        "optimizer.zero_grad(set_to_none=True)"
      ]
    },
    {
      "cell_type": "markdown",
      "metadata": {
        "pycharm": {
          "name": "#%% md\n"
        },
        "id": "Sa7XRBDBIT0U"
      },
      "source": [
        "### Функции потерь"
      ]
    },
    {
      "cell_type": "code",
      "execution_count": 58,
      "metadata": {
        "pycharm": {
          "name": "#%%\n"
        },
        "id": "FhH_U4kSIT0U",
        "outputId": "6498e6fb-2a86-47e1-c6ee-69db322da1d4",
        "colab": {
          "base_uri": "https://localhost:8080/"
        }
      },
      "outputs": [
        {
          "output_type": "execute_result",
          "data": {
            "text/plain": [
              "(torch.nn.modules.loss.L1Loss,\n",
              " torch.nn.modules.loss.MSELoss,\n",
              " torch.nn.modules.loss.CrossEntropyLoss,\n",
              " torch.nn.modules.loss.NLLLoss)"
            ]
          },
          "metadata": {},
          "execution_count": 58
        }
      ],
      "source": [
        "nn.L1Loss, nn.MSELoss, nn.CrossEntropyLoss, nn.NLLLoss"
      ]
    },
    {
      "cell_type": "code",
      "execution_count": 59,
      "metadata": {
        "pycharm": {
          "name": "#%%\n"
        },
        "id": "qyd2VrLrIT0U"
      },
      "outputs": [],
      "source": [
        "loss = nn.MSELoss()"
      ]
    },
    {
      "cell_type": "code",
      "execution_count": 60,
      "metadata": {
        "id": "QDvLIZ8JIT0V",
        "outputId": "1d7baab3-5217-42ca-e8a1-855e143ebada",
        "colab": {
          "base_uri": "https://localhost:8080/"
        }
      },
      "outputs": [
        {
          "output_type": "execute_result",
          "data": {
            "text/plain": [
              "MSELoss()"
            ]
          },
          "metadata": {},
          "execution_count": 60
        }
      ],
      "source": [
        "loss"
      ]
    },
    {
      "cell_type": "code",
      "execution_count": 61,
      "metadata": {
        "pycharm": {
          "name": "#%%\n"
        },
        "id": "R2b0xYGcIT0V",
        "outputId": "a8c8c48a-5333-4ab6-bc88-12dfda26a78b",
        "colab": {
          "base_uri": "https://localhost:8080/"
        }
      },
      "outputs": [
        {
          "output_type": "stream",
          "name": "stdout",
          "text": [
            "tensor(2.0137, grad_fn=<MseLossBackward0>)\n"
          ]
        }
      ],
      "source": [
        "x = torch.randn(3, 5, requires_grad=True)\n",
        "target = torch.randn(3, 5)\n",
        "\n",
        "output = loss(x, target)\n",
        "\n",
        "print(output)\n",
        "\n",
        "output.backward()"
      ]
    },
    {
      "cell_type": "code",
      "execution_count": 62,
      "metadata": {
        "pycharm": {
          "name": "#%%\n"
        },
        "id": "IPETMZVKIT0V",
        "outputId": "b4412111-fe88-447e-f75d-9c041a53b5e7",
        "colab": {
          "base_uri": "https://localhost:8080/"
        }
      },
      "outputs": [
        {
          "output_type": "execute_result",
          "data": {
            "text/plain": [
              "tensor([[ 0.2806,  0.3366, -0.1580,  0.0341,  0.1883],\n",
              "        [-0.1676, -0.4071, -0.1092, -0.1474, -0.0891],\n",
              "        [-0.0386, -0.1187,  0.0167,  0.1531,  0.0929]])"
            ]
          },
          "metadata": {},
          "execution_count": 62
        }
      ],
      "source": [
        "x.grad"
      ]
    },
    {
      "cell_type": "code",
      "execution_count": 63,
      "metadata": {
        "id": "XYfJ8Zn-IT0W",
        "outputId": "9f282a00-9d52-4b05-941b-84b5575c6ae4",
        "colab": {
          "base_uri": "https://localhost:8080/"
        }
      },
      "outputs": [
        {
          "output_type": "execute_result",
          "data": {
            "text/plain": [
              "(tensor([[ 0.4255,  0.5458, -0.7552, -1.5978, -0.4948],\n",
              "         [ 0.3404,  0.9444,  1.2021, -0.7827,  0.7318],\n",
              "         [ 1.0336,  1.5382,  0.6612, -0.7450, -0.8578]], requires_grad=True),\n",
              " tensor([2, 4, 2]))"
            ]
          },
          "metadata": {},
          "execution_count": 63
        }
      ],
      "source": [
        "loss = nn.CrossEntropyLoss()\n",
        "\n",
        "x = torch.randn(3, 5, requires_grad=True)\n",
        "y = torch.empty(3, dtype=torch.long).random_(5)\n",
        "\n",
        "x, y"
      ]
    },
    {
      "cell_type": "code",
      "execution_count": 64,
      "metadata": {
        "id": "1f1h3MOYIT0W",
        "outputId": "fd91bae2-1671-4444-b3e6-3fcb7630b132",
        "colab": {
          "base_uri": "https://localhost:8080/"
        }
      },
      "outputs": [
        {
          "output_type": "execute_result",
          "data": {
            "text/plain": [
              "tensor(1.8312, grad_fn=<NllLossBackward0>)"
            ]
          },
          "metadata": {},
          "execution_count": 64
        }
      ],
      "source": [
        "loss(x, y)"
      ]
    },
    {
      "cell_type": "markdown",
      "metadata": {
        "pycharm": {
          "name": "#%% md\n"
        },
        "id": "92jFS3GMIT0W"
      },
      "source": [
        "### Датасеты и даталоадеры"
      ]
    },
    {
      "cell_type": "code",
      "execution_count": 65,
      "metadata": {
        "pycharm": {
          "name": "#%%\n"
        },
        "id": "QlqsHmE4IT0W"
      },
      "outputs": [],
      "source": [
        "from torch.utils.data import Dataset\n",
        "from torch.utils.data import TensorDataset"
      ]
    },
    {
      "cell_type": "code",
      "execution_count": 66,
      "metadata": {
        "pycharm": {
          "name": "#%%\n"
        },
        "id": "xsKqxtwtIT0X"
      },
      "outputs": [],
      "source": [
        "n_features = 2\n",
        "n_objects = 300\n",
        "\n",
        "torch.manual_seed(0);"
      ]
    },
    {
      "cell_type": "code",
      "execution_count": 68,
      "metadata": {
        "pycharm": {
          "name": "#%%\n"
        },
        "id": "KHxnEYdaIT0X",
        "outputId": "f9bdbe56-9f80-4f82-9851-1cc710b85260",
        "colab": {
          "base_uri": "https://localhost:8080/"
        }
      },
      "outputs": [
        {
          "output_type": "execute_result",
          "data": {
            "text/plain": [
              "(torch.Size([2, 1]), torch.Size([300, 2]), torch.Size([300, 1]))"
            ]
          },
          "metadata": {},
          "execution_count": 68
        }
      ],
      "source": [
        "w_true = torch.randn(n_features, 1)\n",
        "\n",
        "X = (torch.rand(n_objects, n_features) - 0.5) * 10\n",
        "X *= (torch.arange(n_features) * 2 + 1)\n",
        "\n",
        "Y = X @ w_true\n",
        "Y += torch.rand_like(Y)\n",
        "\n",
        "w_true.shape, X.shape, Y.shape"
      ]
    },
    {
      "cell_type": "code",
      "execution_count": 76,
      "metadata": {
        "pycharm": {
          "name": "#%%\n"
        },
        "id": "-NAYwCopIT0a"
      },
      "outputs": [],
      "source": [
        "dataset = TensorDataset(X, Y)"
      ]
    },
    {
      "cell_type": "code",
      "execution_count": 77,
      "metadata": {
        "pycharm": {
          "name": "#%%\n"
        },
        "id": "Cr-bDuAeIT0a",
        "outputId": "b19d7f23-f9f3-4184-aa8e-15d204b44146",
        "colab": {
          "base_uri": "https://localhost:8080/"
        }
      },
      "outputs": [
        {
          "output_type": "execute_result",
          "data": {
            "text/plain": [
              "(tensor([-4.6143,  9.1984]), tensor([-21.7897]))"
            ]
          },
          "metadata": {},
          "execution_count": 77
        }
      ],
      "source": [
        "dataset[7]"
      ]
    },
    {
      "cell_type": "code",
      "execution_count": 78,
      "metadata": {
        "pycharm": {
          "name": "#%%\n"
        },
        "id": "G-MCq2HyIT0a",
        "outputId": "5acea55e-f202-4f13-8271-8f5f87e2055c",
        "colab": {
          "base_uri": "https://localhost:8080/"
        }
      },
      "outputs": [
        {
          "output_type": "execute_result",
          "data": {
            "text/plain": [
              "(tensor([-4.6143,  9.1984]), tensor([-21.7897]))"
            ]
          },
          "metadata": {},
          "execution_count": 78
        }
      ],
      "source": [
        "X[7], Y[7]"
      ]
    },
    {
      "cell_type": "code",
      "execution_count": 88,
      "metadata": {
        "pycharm": {
          "name": "#%%\n"
        },
        "id": "fpzbGgD5IT0a"
      },
      "outputs": [],
      "source": [
        "# надо отнаследоваться от Dataset и определить методы __init__, __len__ и __getitem__\n",
        "\n",
        "class CustomDataset(Dataset):\n",
        "    def __init__(self, w_true, n_features, n_objects):\n",
        "        self.X = (torch.rand(n_objects, n_features) - 0.5) * 10\n",
        "        self.X *= (torch.arange(n_features) * 2 + 1)\n",
        "\n",
        "        self.Y = self.X @ w_true\n",
        "        self.Y += torch.rand_like(self.Y)\n",
        "\n",
        "    def __len__(self):\n",
        "        return len(self.Y)\n",
        "\n",
        "    def __getitem__(self, item):\n",
        "        return self.X[item], self.Y[item]"
      ]
    },
    {
      "cell_type": "code",
      "execution_count": 89,
      "metadata": {
        "pycharm": {
          "name": "#%%\n"
        },
        "id": "rScrtv12IT0b"
      },
      "outputs": [],
      "source": [
        "dataset = CustomDataset(w_true, n_features, n_objects)"
      ]
    },
    {
      "cell_type": "code",
      "execution_count": 90,
      "metadata": {
        "id": "bXenxTlxIT0b",
        "outputId": "b770657a-4132-472c-982c-59a76da2976e",
        "colab": {
          "base_uri": "https://localhost:8080/"
        }
      },
      "outputs": [
        {
          "output_type": "execute_result",
          "data": {
            "text/plain": [
              "(tensor([0.5203, 0.0341]), tensor([0.5043]))"
            ]
          },
          "metadata": {},
          "execution_count": 90
        }
      ],
      "source": [
        "dataset[7]"
      ]
    },
    {
      "cell_type": "code",
      "execution_count": 91,
      "metadata": {
        "id": "rQ2EAvmRIT0b",
        "outputId": "63b9d0a1-faf8-4e84-b3ba-5e9ac6057e3c",
        "colab": {
          "base_uri": "https://localhost:8080/"
        }
      },
      "outputs": [
        {
          "output_type": "execute_result",
          "data": {
            "text/plain": [
              "tensor([0.5203, 0.0341])"
            ]
          },
          "metadata": {},
          "execution_count": 91
        }
      ],
      "source": [
        "dataset.X[7]"
      ]
    },
    {
      "cell_type": "code",
      "execution_count": 92,
      "metadata": {
        "pycharm": {
          "name": "#%%\n"
        },
        "id": "PA9qs2k2IT0c"
      },
      "outputs": [],
      "source": [
        "from torch.utils.data import DataLoader"
      ]
    },
    {
      "cell_type": "code",
      "execution_count": 93,
      "metadata": {
        "pycharm": {
          "name": "#%%\n"
        },
        "id": "XJ2ZJr05IT0c"
      },
      "outputs": [],
      "source": [
        "loader = DataLoader(dataset, batch_size=16, shuffle=True, drop_last=True)"
      ]
    },
    {
      "cell_type": "code",
      "execution_count": 96,
      "metadata": {
        "id": "3aZ6lRL9IT0c",
        "outputId": "d7977f06-c7b0-4c18-a937-c71b4d2ff68b",
        "colab": {
          "base_uri": "https://localhost:8080/"
        }
      },
      "outputs": [
        {
          "output_type": "stream",
          "name": "stdout",
          "text": [
            "x=tensor([[ -1.9544,  -8.2094],\n",
            "        [  4.5845,   9.1393],\n",
            "        [  0.1284, -10.1301],\n",
            "        [  2.5808, -10.2925],\n",
            "        [ -3.5544,  -7.6309],\n",
            "        [  3.0918,   2.9245],\n",
            "        [  3.2522, -10.7559],\n",
            "        [ -1.9986,  -4.8979],\n",
            "        [ -2.1489,   7.9412],\n",
            "        [  2.9777,   9.5652],\n",
            "        [ -3.6368,  13.0093],\n",
            "        [ -3.9203,  -6.4179],\n",
            "        [  4.8749,  -2.7275],\n",
            "        [ -4.0901,  -5.5824],\n",
            "        [  1.2312,  12.3718],\n",
            "        [ -0.5430,  12.5512]])\tx.shape=torch.Size([16, 2])\n",
            "y=tensor([[ 15.5352],\n",
            "        [-14.2323],\n",
            "        [ 20.6960],\n",
            "        [ 22.7205],\n",
            "        [ 12.4630],\n",
            "        [ -2.4578],\n",
            "        [ 24.4322],\n",
            "        [  8.3829],\n",
            "        [-16.5956],\n",
            "        [-15.6222],\n",
            "        [-27.8552],\n",
            "        [ 10.3858],\n",
            "        [  9.7823],\n",
            "        [  8.5530],\n",
            "        [-22.4970],\n",
            "        [-24.8679]])\ty.shape=torch.Size([16, 1])\n"
          ]
        }
      ],
      "source": [
        "for x, y in loader:\n",
        "    print(f\"{x=}\\t{x.shape=}\")\n",
        "    print(f\"{y=}\\t{y.shape=}\")\n",
        "    break"
      ]
    },
    {
      "cell_type": "markdown",
      "metadata": {
        "pycharm": {
          "name": "#%% md\n"
        },
        "id": "JUbTRzbzIT0c"
      },
      "source": [
        "### Общая структура обучения модели"
      ]
    },
    {
      "cell_type": "code",
      "execution_count": null,
      "metadata": {
        "pycharm": {
          "name": "#%%\n"
        },
        "id": "pBzFIdgPIT0d"
      },
      "outputs": [],
      "source": [
        "model.train()\n",
        "\n",
        "for x, y in dataloader:\n",
        "    optimizer.zero_grad()\n",
        "\n",
        "    output = model(x)\n",
        "\n",
        "    loss = loss_fn(output, y)\n",
        "\n",
        "    loss.backward()\n",
        "\n",
        "    optimizer.step()"
      ]
    },
    {
      "cell_type": "code",
      "execution_count": 97,
      "metadata": {
        "id": "gO2UfWtaIT0d"
      },
      "outputs": [],
      "source": [
        "from tqdm import tqdm"
      ]
    },
    {
      "cell_type": "code",
      "execution_count": 98,
      "metadata": {
        "id": "HfmvPWQVIT0d"
      },
      "outputs": [],
      "source": [
        "import torch.nn as nn\n",
        "from torch.utils.data import DataLoader\n",
        "from torch.optim import Optimizer\n",
        "\n",
        "\n",
        "def train(model: nn.Module, data_loader: DataLoader, optimizer: Optimizer, loss_fn):\n",
        "    model.train()\n",
        "\n",
        "    total_loss = 0\n",
        "\n",
        "    for i, (x, y) in enumerate(tqdm(data_loader)):\n",
        "        optimizer.zero_grad()\n",
        "\n",
        "        output = model(x)\n",
        "\n",
        "        loss = loss_fn(output, y)\n",
        "\n",
        "        loss.backward()\n",
        "\n",
        "        total_loss += loss.item()\n",
        "\n",
        "        optimizer.step()\n",
        "\n",
        "    return total_loss / len(data_loader)\n"
      ]
    },
    {
      "cell_type": "code",
      "execution_count": 99,
      "metadata": {
        "id": "LbUZV50TIT0d"
      },
      "outputs": [],
      "source": [
        "import torch\n",
        "import torch.nn as nn\n",
        "from torch.utils.data import DataLoader\n",
        "\n",
        "\n",
        "@torch.inference_mode()\n",
        "def evaluate(model: nn.Module, data_loader: DataLoader, loss_fn):\n",
        "    model.eval()\n",
        "\n",
        "    total_loss = 0\n",
        "\n",
        "    for i, (x, y) in enumerate(tqdm(data_loader)):\n",
        "        output = model(x)\n",
        "\n",
        "        loss = loss_fn(output, y)\n",
        "\n",
        "        total_loss += loss.item()\n",
        "\n",
        "    return total_loss / len(data_loader)\n"
      ]
    },
    {
      "cell_type": "code",
      "execution_count": 100,
      "metadata": {
        "id": "QCCnydtuIT0d"
      },
      "outputs": [],
      "source": [
        "import matplotlib.pyplot as plt\n",
        "import seaborn as sns\n",
        "\n",
        "\n",
        "sns.set(style='darkgrid')\n",
        "\n",
        "\n",
        "def plot_stats(\n",
        "    train_loss: list[float],\n",
        "    valid_loss: list[float],\n",
        "    title: str\n",
        "):\n",
        "    plt.figure(figsize=(16, 8))\n",
        "\n",
        "    plt.title(title + ' loss')\n",
        "\n",
        "    plt.plot(train_loss, label='Train loss')\n",
        "    plt.plot(valid_loss, label='Valid loss')\n",
        "\n",
        "    plt.legend()\n",
        "\n",
        "    plt.ylabel(\"Loss\")\n",
        "    plt.xlabel(\"Epoch\")\n",
        "\n",
        "    plt.show()"
      ]
    },
    {
      "cell_type": "code",
      "execution_count": 102,
      "metadata": {
        "id": "02HU0NEzIT0e"
      },
      "outputs": [],
      "source": [
        "from IPython.display import clear_output\n",
        "\n",
        "\n",
        "def fit(model, train_loader, valid_loader, optimizer, loss_fn, num_epochs, title):\n",
        "    train_loss_history, valid_loss_history = [], []\n",
        "\n",
        "    for epoch in range(num_epochs):\n",
        "        train_loss = train(model, train_loader, optimizer, loss_fn)\n",
        "        valid_loss = evaluate(model, valid_loader, loss_fn)\n",
        "\n",
        "        train_loss_history.append(train_loss)\n",
        "        valid_loss_history.append(valid_loss)\n",
        "\n",
        "        clear_output()\n",
        "\n",
        "        plot_stats(train_loss_history, valid_loss_history, title)"
      ]
    },
    {
      "cell_type": "markdown",
      "metadata": {
        "pycharm": {
          "name": "#%% md\n"
        },
        "id": "F5OCYF9-IT0e"
      },
      "source": [
        "## Обучение первой нейросети в `PyTorch`"
      ]
    },
    {
      "cell_type": "code",
      "execution_count": 105,
      "metadata": {
        "pycharm": {
          "name": "#%%\n"
        },
        "id": "REWLduHTIT0e"
      },
      "outputs": [],
      "source": [
        "class CustomTaskNetwork(nn.Module):\n",
        "    def __init__(self):\n",
        "        super().__init__()\n",
        "\n",
        "        self.linear = nn.Linear(n_features, 1)\n",
        "\n",
        "    def forward(self, x):\n",
        "        return self.linear(x)\n",
        "\n",
        "\n",
        "model = CustomTaskNetwork()\n",
        "\n",
        "optimizer = optim.Adam(model.parameters(), lr=1e-2)\n",
        "\n",
        "loss_fn = nn.MSELoss()"
      ]
    },
    {
      "cell_type": "code",
      "execution_count": 104,
      "metadata": {
        "id": "4dfE2zSfIT0e"
      },
      "outputs": [],
      "source": [
        "from torch.utils.data import random_split\n",
        "\n",
        "\n",
        "dataset = TensorDataset(X, Y)\n",
        "\n",
        "train_dataset, valid_dataset = random_split(\n",
        "    dataset,\n",
        "    (int(len(dataset) * 0.8), len(dataset) -  int(len(dataset) * 0.8)),\n",
        "    generator=torch.Generator().manual_seed(300)\n",
        ")"
      ]
    },
    {
      "cell_type": "code",
      "execution_count": 106,
      "metadata": {
        "id": "44Z7mFZSIT0f"
      },
      "outputs": [],
      "source": [
        "train_loader = DataLoader(train_dataset, batch_size=10, shuffle=True)\n",
        "valid_loader = DataLoader(valid_dataset, batch_size=10, shuffle=False)"
      ]
    },
    {
      "cell_type": "code",
      "execution_count": 107,
      "metadata": {
        "id": "epJu3r20IT0f",
        "outputId": "76579a89-a7fb-44f4-b6a2-e2c2f354843b",
        "colab": {
          "base_uri": "https://localhost:8080/",
          "height": 722
        }
      },
      "outputs": [
        {
          "output_type": "display_data",
          "data": {
            "text/plain": [
              "<Figure size 1600x800 with 1 Axes>"
            ],
            "image/png": "[encoded data removed]"
          },
          "metadata": {}
        }
      ],
      "source": [
        "fit(model, train_loader, valid_loader, optimizer, loss_fn, 20, 'Simple fc')"
      ]
    },
    {
      "cell_type": "markdown",
      "metadata": {
        "id": "vQxkg0uBIT0f"
      },
      "source": [
        "## BatchNorm и Dropout"
      ]
    },
    {
      "cell_type": "code",
      "execution_count": 109,
      "metadata": {
        "id": "50vivUUNIT0f",
        "outputId": "4e39fc19-9398-40c7-8415-367eea627f16",
        "colab": {
          "base_uri": "https://localhost:8080/"
        }
      },
      "outputs": [
        {
          "output_type": "execute_result",
          "data": {
            "text/plain": [
              "Dropout(p=0.1, inplace=False)"
            ]
          },
          "metadata": {},
          "execution_count": 109
        }
      ],
      "source": [
        "dropout = nn.Dropout(p=0.1)\n",
        "\n",
        "dropout"
      ]
    },
    {
      "cell_type": "code",
      "execution_count": 110,
      "metadata": {
        "id": "GkW4A_msIT0f",
        "outputId": "5b578d48-1507-4985-d772-1218f3098c3a",
        "colab": {
          "base_uri": "https://localhost:8080/"
        }
      },
      "outputs": [
        {
          "output_type": "execute_result",
          "data": {
            "text/plain": [
              "tensor([[0.4692, 0.5289, 0.1251, 0.2366, 0.5250, 0.1004, 0.7477],\n",
              "        [0.5762, 0.5053, 0.4679, 0.9223, 0.9563, 0.7441, 0.7483],\n",
              "        [0.2576, 0.7044, 0.1618, 0.7161, 0.1450, 0.4973, 0.8624]])"
            ]
          },
          "metadata": {},
          "execution_count": 110
        }
      ],
      "source": [
        "x = torch.rand(3, 7)\n",
        "\n",
        "x"
      ]
    },
    {
      "cell_type": "code",
      "execution_count": 111,
      "metadata": {
        "id": "Ae8rXE65IT0g",
        "outputId": "52ef31cc-16d4-46b6-864c-c36e7a1dee32",
        "colab": {
          "base_uri": "https://localhost:8080/"
        }
      },
      "outputs": [
        {
          "output_type": "execute_result",
          "data": {
            "text/plain": [
              "tensor([[0.5213, 0.5877, 0.1389, 0.2628, 0.5834, 0.1115, 0.8307],\n",
              "        [0.6402, 0.5614, 0.5199, 1.0248, 1.0626, 0.8268, 0.8315],\n",
              "        [0.2862, 0.7827, 0.1798, 0.7957, 0.1611, 0.5525, 0.9582]])"
            ]
          },
          "metadata": {},
          "execution_count": 111
        }
      ],
      "source": [
        "x / 0.9"
      ]
    },
    {
      "cell_type": "code",
      "execution_count": 112,
      "metadata": {
        "id": "OIdpkCj-IT0g",
        "outputId": "d30e1524-4080-4fa3-b9df-fb45d0a55a6f",
        "colab": {
          "base_uri": "https://localhost:8080/"
        }
      },
      "outputs": [
        {
          "output_type": "stream",
          "name": "stdout",
          "text": [
            "tensor([[0.0000, 0.5877, 0.1389, 0.2628, 0.0000, 0.1115, 0.8307],\n",
            "        [0.6402, 0.5614, 0.5199, 1.0248, 1.0626, 0.8268, 0.8315],\n",
            "        [0.2862, 0.7827, 0.1798, 0.7957, 0.1611, 0.5525, 0.9582]])\n",
            "tensor([[0.5213, 0.5877, 0.1389, 0.0000, 0.5834, 0.1115, 0.8307],\n",
            "        [0.6402, 0.5614, 0.5199, 1.0248, 1.0626, 0.8268, 0.8315],\n",
            "        [0.2862, 0.7827, 0.1798, 0.7957, 0.1611, 0.0000, 0.9582]])\n",
            "tensor([[0.5213, 0.5877, 0.1389, 0.2628, 0.5834, 0.1115, 0.8307],\n",
            "        [0.6402, 0.5614, 0.5199, 1.0248, 1.0626, 0.8268, 0.8315],\n",
            "        [0.2862, 0.7827, 0.1798, 0.7957, 0.1611, 0.5525, 0.0000]])\n"
          ]
        }
      ],
      "source": [
        "dropout.train()\n",
        "\n",
        "for _ in range(3):\n",
        "    print(dropout(x))"
      ]
    },
    {
      "cell_type": "code",
      "source": [
        "x"
      ],
      "metadata": {
        "colab": {
          "base_uri": "https://localhost:8080/"
        },
        "id": "tbTlnRBLXXyR",
        "outputId": "3941d263-37e9-48da-854a-6df498b19c7b"
      },
      "execution_count": 114,
      "outputs": [
        {
          "output_type": "execute_result",
          "data": {
            "text/plain": [
              "tensor([[0.4692, 0.5289, 0.1251, 0.2366, 0.5250, 0.1004, 0.7477],\n",
              "        [0.5762, 0.5053, 0.4679, 0.9223, 0.9563, 0.7441, 0.7483],\n",
              "        [0.2576, 0.7044, 0.1618, 0.7161, 0.1450, 0.4973, 0.8624]])"
            ]
          },
          "metadata": {},
          "execution_count": 114
        }
      ]
    },
    {
      "cell_type": "code",
      "execution_count": 113,
      "metadata": {
        "id": "o8WpezQnIT0g",
        "outputId": "2874b83a-a07c-4c68-e51f-6712b13ace97",
        "colab": {
          "base_uri": "https://localhost:8080/"
        }
      },
      "outputs": [
        {
          "output_type": "execute_result",
          "data": {
            "text/plain": [
              "tensor([[0.4692, 0.5289, 0.1251, 0.2366, 0.5250, 0.1004, 0.7477],\n",
              "        [0.5762, 0.5053, 0.4679, 0.9223, 0.9563, 0.7441, 0.7483],\n",
              "        [0.2576, 0.7044, 0.1618, 0.7161, 0.1450, 0.4973, 0.8624]])"
            ]
          },
          "metadata": {},
          "execution_count": 113
        }
      ],
      "source": [
        "dropout.eval()\n",
        "\n",
        "dropout(x)"
      ]
    },
    {
      "cell_type": "code",
      "execution_count": 115,
      "metadata": {
        "id": "ADdqZ-GnIT0g",
        "outputId": "7f0b09e5-ef40-496c-e033-e65b7663becb",
        "colab": {
          "base_uri": "https://localhost:8080/"
        }
      },
      "outputs": [
        {
          "output_type": "execute_result",
          "data": {
            "text/plain": [
              "BatchNorm1d(7, eps=1e-05, momentum=0.1, affine=True, track_running_stats=True)"
            ]
          },
          "metadata": {},
          "execution_count": 115
        }
      ],
      "source": [
        "batch_norm = nn.BatchNorm1d(num_features=7)\n",
        "\n",
        "batch_norm"
      ]
    },
    {
      "cell_type": "code",
      "execution_count": 116,
      "metadata": {
        "id": "9Pk3q62PIT0h",
        "outputId": "b45f1fc2-587b-4028-cb5d-73d11afcd349",
        "colab": {
          "base_uri": "https://localhost:8080/"
        }
      },
      "outputs": [
        {
          "output_type": "execute_result",
          "data": {
            "text/plain": [
              "tensor([[0.6941, 0.6341, 0.8651, 0.7624, 0.6475, 0.3255, 0.2580],\n",
              "        [0.3764, 0.7386, 0.2278, 0.6366, 0.9375, 0.9234, 0.1319],\n",
              "        [0.6425, 0.8269, 0.0458, 0.8196, 0.1885, 0.1385, 0.2881]])"
            ]
          },
          "metadata": {},
          "execution_count": 116
        }
      ],
      "source": [
        "x = torch.rand(3, 7)\n",
        "\n",
        "x"
      ]
    },
    {
      "cell_type": "code",
      "execution_count": 117,
      "metadata": {
        "id": "M6uyWBMvIT0h",
        "outputId": "c6ab6d21-2efd-40da-e314-ed04c384c902",
        "colab": {
          "base_uri": "https://localhost:8080/"
        }
      },
      "outputs": [
        {
          "output_type": "execute_result",
          "data": {
            "text/plain": [
              "tensor([[ 0.8840, -1.2566,  1.3822,  0.2989,  0.1829, -0.4090,  0.4729],\n",
              "        [-1.3976,  0.0685, -0.4320, -1.3455,  1.1230,  1.3769, -1.3893],\n",
              "        [ 0.5136,  1.1881, -0.9501,  1.0465, -1.3058, -0.9678,  0.9163]],\n",
              "       grad_fn=<NativeBatchNormBackward0>)"
            ]
          },
          "metadata": {},
          "execution_count": 117
        }
      ],
      "source": [
        "batch_norm(x)"
      ]
    },
    {
      "cell_type": "code",
      "execution_count": 118,
      "metadata": {
        "id": "eykRSgNvIT0h",
        "outputId": "9b7a340a-a0f3-43c6-fcae-21a8fe9df6a8",
        "colab": {
          "base_uri": "https://localhost:8080/"
        }
      },
      "outputs": [
        {
          "output_type": "execute_result",
          "data": {
            "text/plain": [
              "Parameter containing:\n",
              "tensor([1., 1., 1., 1., 1., 1., 1.], requires_grad=True)"
            ]
          },
          "metadata": {},
          "execution_count": 118
        }
      ],
      "source": [
        "batch_norm.weight"
      ]
    },
    {
      "cell_type": "code",
      "execution_count": 119,
      "metadata": {
        "id": "uJWE-35QIT0h",
        "outputId": "c7035385-b2ff-4c39-842a-537e4260295f",
        "colab": {
          "base_uri": "https://localhost:8080/"
        }
      },
      "outputs": [
        {
          "output_type": "execute_result",
          "data": {
            "text/plain": [
              "Parameter containing:\n",
              "tensor([0., 0., 0., 0., 0., 0., 0.], requires_grad=True)"
            ]
          },
          "metadata": {},
          "execution_count": 119
        }
      ],
      "source": [
        "batch_norm.bias"
      ]
    },
    {
      "cell_type": "code",
      "execution_count": 120,
      "metadata": {
        "id": "LbRRMVnwIT0i",
        "outputId": "30ae3a50-8870-4616-9f1b-70b420a1cb6a",
        "colab": {
          "base_uri": "https://localhost:8080/"
        }
      },
      "outputs": [
        {
          "output_type": "execute_result",
          "data": {
            "text/plain": [
              "tensor([0.0571, 0.0733, 0.0380, 0.0740, 0.0591, 0.0462, 0.0226])"
            ]
          },
          "metadata": {},
          "execution_count": 120
        }
      ],
      "source": [
        "batch_norm.running_mean"
      ]
    },
    {
      "cell_type": "code",
      "execution_count": 121,
      "metadata": {
        "id": "44CVL3kVIT0i",
        "outputId": "b2c94fc6-a000-4fb0-87cd-882fbb3cb690",
        "colab": {
          "base_uri": "https://localhost:8080/"
        }
      },
      "outputs": [
        {
          "output_type": "execute_result",
          "data": {
            "text/plain": [
              "tensor([0.9029, 0.9009, 0.9185, 0.9009, 0.9143, 0.9168, 0.9007])"
            ]
          },
          "metadata": {},
          "execution_count": 121
        }
      ],
      "source": [
        "batch_norm.running_var"
      ]
    },
    {
      "cell_type": "code",
      "execution_count": 122,
      "metadata": {
        "id": "K_SrMe85IT0i",
        "outputId": "f5fbf5b1-482f-40a0-9afa-0ca63abe147c",
        "colab": {
          "base_uri": "https://localhost:8080/"
        }
      },
      "outputs": [
        {
          "output_type": "execute_result",
          "data": {
            "text/plain": [
              "tensor(1)"
            ]
          },
          "metadata": {},
          "execution_count": 122
        }
      ],
      "source": [
        "batch_norm.num_batches_tracked"
      ]
    },
    {
      "cell_type": "code",
      "execution_count": 123,
      "metadata": {
        "id": "CdYP5c26IT0i",
        "outputId": "8181d919-d2c6-4c05-edd6-e0cec7219289",
        "colab": {
          "base_uri": "https://localhost:8080/"
        }
      },
      "outputs": [
        {
          "output_type": "execute_result",
          "data": {
            "text/plain": [
              "tensor(2)"
            ]
          },
          "metadata": {},
          "execution_count": 123
        }
      ],
      "source": [
        "batch_norm(x)\n",
        "\n",
        "batch_norm.num_batches_tracked"
      ]
    },
    {
      "cell_type": "code",
      "execution_count": 124,
      "metadata": {
        "id": "60uHib2bIT0j",
        "outputId": "80f4b34e-d140-4b29-f9e4-5dab0f85d592",
        "colab": {
          "base_uri": "https://localhost:8080/"
        }
      },
      "outputs": [
        {
          "output_type": "execute_result",
          "data": {
            "text/plain": [
              "tensor([[ 0.6485,  0.5491,  0.8626,  0.6903,  0.5850,  0.2590,  0.2388],\n",
              "        [ 0.2966,  0.6652,  0.1694,  0.5506,  0.9018,  0.9106,  0.0987],\n",
              "        [ 0.5913,  0.7632, -0.0286,  0.7537,  0.0832,  0.0552,  0.2721]],\n",
              "       grad_fn=<NativeBatchNormBackward0>)"
            ]
          },
          "metadata": {},
          "execution_count": 124
        }
      ],
      "source": [
        "batch_norm.eval()\n",
        "\n",
        "batch_norm(x)"
      ]
    },
    {
      "cell_type": "code",
      "execution_count": 125,
      "metadata": {
        "id": "UEI4onXBIT0j",
        "outputId": "1bec7fda-0ac7-4938-c573-4bab63fbd3d8",
        "colab": {
          "base_uri": "https://localhost:8080/"
        }
      },
      "outputs": [
        {
          "output_type": "execute_result",
          "data": {
            "text/plain": [
              "tensor([[0.6941, 0.6341, 0.8651, 0.7624, 0.6475, 0.3255, 0.2580],\n",
              "        [0.3764, 0.7386, 0.2278, 0.6366, 0.9375, 0.9234, 0.1319],\n",
              "        [0.6425, 0.8269, 0.0458, 0.8196, 0.1885, 0.1385, 0.2881]])"
            ]
          },
          "metadata": {},
          "execution_count": 125
        }
      ],
      "source": [
        "x"
      ]
    },
    {
      "cell_type": "code",
      "execution_count": 126,
      "metadata": {
        "id": "rbp7VeIrIT0j",
        "colab": {
          "base_uri": "https://localhost:8080/"
        },
        "outputId": "85d8d6eb-fc62-43b6-c16b-dad60f90b634"
      },
      "outputs": [
        {
          "output_type": "execute_result",
          "data": {
            "text/plain": [
              "tensor([[0.6941, 0.6341, 0.8651, 0.7624, 0.6475, 0.3255, 0.2580],\n",
              "        [0.3764, 0.7386, 0.2278, 0.6366, 0.9374, 0.9234, 0.1319],\n",
              "        [0.6425, 0.8269, 0.0458, 0.8196, 0.1885, 0.1385, 0.2881]],\n",
              "       grad_fn=<NativeBatchNormBackward0>)"
            ]
          },
          "metadata": {},
          "execution_count": 126
        }
      ],
      "source": [
        "batch_norm = nn.BatchNorm1d(num_features=7)\n",
        "\n",
        "batch_norm.eval()\n",
        "\n",
        "batch_norm(x)"
      ]
    },
    {
      "cell_type": "code",
      "execution_count": null,
      "metadata": {
        "id": "4ZYoKp07IT0j"
      },
      "outputs": [],
      "source": []
    }
  ],
  "metadata": {
    "kernelspec": {
      "display_name": "Python 3",
      "name": "python3"
    },
    "language_info": {
      "codemirror_mode": {
        "name": "ipython",
        "version": 3
      },
      "file_extension": ".py",
      "mimetype": "text/x-python",
      "name": "python",
      "nbconvert_exporter": "python",
      "pygments_lexer": "ipython3",
      "version": "3.10.12"
    },
    "colab": {
      "provenance": [],
      "gpuType": "T4"
    },
    "accelerator": "GPU"
  },
  "nbformat": 4,
  "nbformat_minor": 0
}